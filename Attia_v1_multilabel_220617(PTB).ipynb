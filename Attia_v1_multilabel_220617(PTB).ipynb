{
 "cells": [
  {
   "cell_type": "markdown",
   "id": "7198024d",
   "metadata": {},
   "source": [
    "# Import Module and Data"
   ]
  },
  {
   "cell_type": "code",
   "execution_count": 1,
   "id": "683c4844",
   "metadata": {},
   "outputs": [],
   "source": [
    "#########################################################\n",
    "# Imports modules\n",
    "#########################################################\n",
    "\n",
    "import os\n",
    "import numpy as np\n",
    "import pandas as pd\n",
    "import tensorflow as tf\n",
    "from sklearn.model_selection import train_test_split\n",
    "from sklearn.metrics import roc_curve, auc, roc_auc_score\n",
    "import matplotlib.pyplot as plt\n",
    "\n",
    "from keras import layers\n",
    "from keras.models import Sequential\n",
    "from keras.layers import Dense, Conv1D,Conv2D, Flatten\n",
    "from tensorflow.keras.layers import (Input, Conv1D, MaxPooling1D, Dropout, BatchNormalization, Activation, Add, Flatten, Dense)\n",
    "from tensorflow.keras.models import Model\n",
    "from tensorflow.keras.callbacks import EarlyStopping"
   ]
  },
  {
   "cell_type": "code",
   "execution_count": 2,
   "id": "5b3c81a8",
   "metadata": {},
   "outputs": [],
   "source": [
    "my_path = os.getcwd()\n",
    "my_dir = '/home/ubuntu/dr-you-ecg-20220420_mount/STEMI_JKL'"
   ]
  },
  {
   "cell_type": "code",
   "execution_count": 3,
   "id": "61e6b59d",
   "metadata": {},
   "outputs": [
    {
     "name": "stdout",
     "output_type": "stream",
     "text": [
      "(17898, 5120, 8) (17898, 50)\n"
     ]
    }
   ],
   "source": [
    "whole_x = np.load('/home/ubuntu/dr-you-ecg-20220420_mount/STEMI_JKL/PTB_X_0616.npy')\n",
    "whole_y = np.load('/home/ubuntu/dr-you-ecg-20220420_mount/STEMI_JKL/PTB_Y_0616.npy')\n",
    "print(whole_x.shape, whole_y.shape)"
   ]
  },
  {
   "cell_type": "code",
   "execution_count": 4,
   "id": "abf85e88",
   "metadata": {},
   "outputs": [
    {
     "data": {
      "text/html": [
       "<div>\n",
       "<style scoped>\n",
       "    .dataframe tbody tr th:only-of-type {\n",
       "        vertical-align: middle;\n",
       "    }\n",
       "\n",
       "    .dataframe tbody tr th {\n",
       "        vertical-align: top;\n",
       "    }\n",
       "\n",
       "    .dataframe thead th {\n",
       "        text-align: right;\n",
       "    }\n",
       "</style>\n",
       "<table border=\"1\" class=\"dataframe\">\n",
       "  <thead>\n",
       "    <tr style=\"text-align: right;\">\n",
       "      <th></th>\n",
       "      <th>ecg_id</th>\n",
       "      <th>patient_id</th>\n",
       "      <th>confirm_disease</th>\n",
       "      <th>filename_hr</th>\n",
       "      <th>1AVB</th>\n",
       "      <th>2AVB</th>\n",
       "      <th>3AVB</th>\n",
       "      <th>AFIB</th>\n",
       "      <th>AFLT</th>\n",
       "      <th>ALMI</th>\n",
       "      <th>...</th>\n",
       "      <th>NORM</th>\n",
       "      <th>NST_</th>\n",
       "      <th>PAC</th>\n",
       "      <th>PACE</th>\n",
       "      <th>PSVT</th>\n",
       "      <th>PVC</th>\n",
       "      <th>RAO_RAE</th>\n",
       "      <th>RVH</th>\n",
       "      <th>SEHYP</th>\n",
       "      <th>WPW</th>\n",
       "    </tr>\n",
       "  </thead>\n",
       "  <tbody>\n",
       "    <tr>\n",
       "      <th>0</th>\n",
       "      <td>1</td>\n",
       "      <td>15709.0</td>\n",
       "      <td>['NORM']</td>\n",
       "      <td>records500/00000/00001_hr</td>\n",
       "      <td>0</td>\n",
       "      <td>0</td>\n",
       "      <td>0</td>\n",
       "      <td>0</td>\n",
       "      <td>0</td>\n",
       "      <td>0</td>\n",
       "      <td>...</td>\n",
       "      <td>1</td>\n",
       "      <td>0</td>\n",
       "      <td>0</td>\n",
       "      <td>0</td>\n",
       "      <td>0</td>\n",
       "      <td>0</td>\n",
       "      <td>0</td>\n",
       "      <td>0</td>\n",
       "      <td>0</td>\n",
       "      <td>0</td>\n",
       "    </tr>\n",
       "    <tr>\n",
       "      <th>1</th>\n",
       "      <td>3</td>\n",
       "      <td>20372.0</td>\n",
       "      <td>['NORM']</td>\n",
       "      <td>records500/00000/00003_hr</td>\n",
       "      <td>0</td>\n",
       "      <td>0</td>\n",
       "      <td>0</td>\n",
       "      <td>0</td>\n",
       "      <td>0</td>\n",
       "      <td>0</td>\n",
       "      <td>...</td>\n",
       "      <td>1</td>\n",
       "      <td>0</td>\n",
       "      <td>0</td>\n",
       "      <td>0</td>\n",
       "      <td>0</td>\n",
       "      <td>0</td>\n",
       "      <td>0</td>\n",
       "      <td>0</td>\n",
       "      <td>0</td>\n",
       "      <td>0</td>\n",
       "    </tr>\n",
       "    <tr>\n",
       "      <th>2</th>\n",
       "      <td>4</td>\n",
       "      <td>17014.0</td>\n",
       "      <td>['NORM']</td>\n",
       "      <td>records500/00000/00004_hr</td>\n",
       "      <td>0</td>\n",
       "      <td>0</td>\n",
       "      <td>0</td>\n",
       "      <td>0</td>\n",
       "      <td>0</td>\n",
       "      <td>0</td>\n",
       "      <td>...</td>\n",
       "      <td>1</td>\n",
       "      <td>0</td>\n",
       "      <td>0</td>\n",
       "      <td>0</td>\n",
       "      <td>0</td>\n",
       "      <td>0</td>\n",
       "      <td>0</td>\n",
       "      <td>0</td>\n",
       "      <td>0</td>\n",
       "      <td>0</td>\n",
       "    </tr>\n",
       "    <tr>\n",
       "      <th>3</th>\n",
       "      <td>5</td>\n",
       "      <td>17448.0</td>\n",
       "      <td>['NORM']</td>\n",
       "      <td>records500/00000/00005_hr</td>\n",
       "      <td>0</td>\n",
       "      <td>0</td>\n",
       "      <td>0</td>\n",
       "      <td>0</td>\n",
       "      <td>0</td>\n",
       "      <td>0</td>\n",
       "      <td>...</td>\n",
       "      <td>1</td>\n",
       "      <td>0</td>\n",
       "      <td>0</td>\n",
       "      <td>0</td>\n",
       "      <td>0</td>\n",
       "      <td>0</td>\n",
       "      <td>0</td>\n",
       "      <td>0</td>\n",
       "      <td>0</td>\n",
       "      <td>0</td>\n",
       "    </tr>\n",
       "    <tr>\n",
       "      <th>4</th>\n",
       "      <td>6</td>\n",
       "      <td>19005.0</td>\n",
       "      <td>['NORM']</td>\n",
       "      <td>records500/00000/00006_hr</td>\n",
       "      <td>0</td>\n",
       "      <td>0</td>\n",
       "      <td>0</td>\n",
       "      <td>0</td>\n",
       "      <td>0</td>\n",
       "      <td>0</td>\n",
       "      <td>...</td>\n",
       "      <td>1</td>\n",
       "      <td>0</td>\n",
       "      <td>0</td>\n",
       "      <td>0</td>\n",
       "      <td>0</td>\n",
       "      <td>0</td>\n",
       "      <td>0</td>\n",
       "      <td>0</td>\n",
       "      <td>0</td>\n",
       "      <td>0</td>\n",
       "    </tr>\n",
       "  </tbody>\n",
       "</table>\n",
       "<p>5 rows × 54 columns</p>\n",
       "</div>"
      ],
      "text/plain": [
       "   ecg_id  patient_id confirm_disease                filename_hr  1AVB  2AVB  \\\n",
       "0       1     15709.0        ['NORM']  records500/00000/00001_hr     0     0   \n",
       "1       3     20372.0        ['NORM']  records500/00000/00003_hr     0     0   \n",
       "2       4     17014.0        ['NORM']  records500/00000/00004_hr     0     0   \n",
       "3       5     17448.0        ['NORM']  records500/00000/00005_hr     0     0   \n",
       "4       6     19005.0        ['NORM']  records500/00000/00006_hr     0     0   \n",
       "\n",
       "   3AVB  AFIB  AFLT  ALMI  ...  NORM  NST_  PAC  PACE  PSVT  PVC  RAO_RAE  \\\n",
       "0     0     0     0     0  ...     1     0    0     0     0    0        0   \n",
       "1     0     0     0     0  ...     1     0    0     0     0    0        0   \n",
       "2     0     0     0     0  ...     1     0    0     0     0    0        0   \n",
       "3     0     0     0     0  ...     1     0    0     0     0    0        0   \n",
       "4     0     0     0     0  ...     1     0    0     0     0    0        0   \n",
       "\n",
       "   RVH  SEHYP  WPW  \n",
       "0    0      0    0  \n",
       "1    0      0    0  \n",
       "2    0      0    0  \n",
       "3    0      0    0  \n",
       "4    0      0    0  \n",
       "\n",
       "[5 rows x 54 columns]"
      ]
     },
     "execution_count": 4,
     "metadata": {},
     "output_type": "execute_result"
    }
   ],
   "source": [
    "df_PTB = pd.read_csv('/home/ubuntu/dr-you-ecg-20220420_mount/STEMI_JKL/PTB_multi_label_220616.csv')\n",
    "df_PTB.head()"
   ]
  },
  {
   "cell_type": "code",
   "execution_count": 5,
   "id": "29ff5e50",
   "metadata": {},
   "outputs": [],
   "source": [
    "class_list = ['1AVB', '2AVB', '3AVB', 'AFIB', 'AFLT', 'ALMI', 'AMI', 'ANEUR',\n",
    "       'ASMI', 'BIGU', 'CLBBB', 'CRBBB', 'DIG', 'EL', 'ILBBB', 'ILMI',\n",
    "       'IMI', 'INJAL', 'INJAS', 'INJIL', 'INJIN', 'INJLA', 'IPLMI',\n",
    "       'IPMI', 'IRBBB', 'ISCAL', 'ISCAN', 'ISCAS', 'ISCIL', 'ISCIN',\n",
    "       'ISCLA', 'ISC_', 'IVCD', 'LAFB', 'LAO_LAE', 'LMI', 'LNGQT', 'LPFB',\n",
    "       'LVH', 'NDT', 'NORM', 'NST_', 'PAC', 'PACE', 'PSVT', 'PVC',\n",
    "       'RAO_RAE', 'RVH', 'SEHYP', 'WPW']"
   ]
  },
  {
   "cell_type": "markdown",
   "id": "5cb572c1",
   "metadata": {},
   "source": [
    "# Data Preset"
   ]
  },
  {
   "cell_type": "code",
   "execution_count": 6,
   "id": "b8030e4a",
   "metadata": {},
   "outputs": [
    {
     "name": "stdout",
     "output_type": "stream",
     "text": [
      "x_train:  (14318, 5120, 8) y_train:  (14318, 50)\n",
      "x_test:  (3580, 5120, 8) y_test:  (3580, 50)\n"
     ]
    }
   ],
   "source": [
    "x_train, x_test, y_train, y_test = train_test_split(whole_x, whole_y, test_size = 0.2, random_state = 321)\n",
    "\n",
    "print('x_train: ',x_train.shape,'y_train: ', y_train.shape)\n",
    "print('x_test: ',x_test.shape, 'y_test: ',y_test.shape)"
   ]
  },
  {
   "cell_type": "code",
   "execution_count": 7,
   "id": "2285f54e",
   "metadata": {},
   "outputs": [
    {
     "data": {
      "text/plain": [
       "0      167\n",
       "1        4\n",
       "2        2\n",
       "3       11\n",
       "4       16\n",
       "5       41\n",
       "6       27\n",
       "7        1\n",
       "8      311\n",
       "9        4\n",
       "10     106\n",
       "11     103\n",
       "12      27\n",
       "13       1\n",
       "14      15\n",
       "15      69\n",
       "16     206\n",
       "17      29\n",
       "18      43\n",
       "19       5\n",
       "20       3\n",
       "21       1\n",
       "22       7\n",
       "23       6\n",
       "24     204\n",
       "25     118\n",
       "26       7\n",
       "27      28\n",
       "28      28\n",
       "29      34\n",
       "30      18\n",
       "31     227\n",
       "32     154\n",
       "33     339\n",
       "34      50\n",
       "35       6\n",
       "36      25\n",
       "37      40\n",
       "38     208\n",
       "39     365\n",
       "40    1422\n",
       "41     117\n",
       "42       5\n",
       "43      41\n",
       "44      10\n",
       "45     205\n",
       "46      17\n",
       "47       9\n",
       "48       5\n",
       "49       9\n",
       "dtype: int64"
      ]
     },
     "execution_count": 7,
     "metadata": {},
     "output_type": "execute_result"
    }
   ],
   "source": [
    "df_y_test = pd.DataFrame(y_test)\n",
    "df_y_test.sum()"
   ]
  },
  {
   "cell_type": "markdown",
   "id": "dbe61639",
   "metadata": {},
   "source": [
    "# Build Model\n",
    "---\n",
    "## Attia\n",
    "[reference]\n",
    "https://pseudo-lab.github.io/Tutorial-Book/chapters/time-series/Ch5-CNN-LSTM.html"
   ]
  },
  {
   "cell_type": "code",
   "execution_count": 8,
   "id": "220c2587",
   "metadata": {},
   "outputs": [],
   "source": [
    "def Model():\n",
    "    inputs = tf.keras.Input(shape=(5120, 8))\n",
    "    \n",
    "    x = tf.keras.layers.Conv1D(filters=16, padding = 'same', kernel_size=7, activation='relu')(inputs)\n",
    "    #x = tf.keras.layers.BatchNormalization()(x)\n",
    "    x = tf.keras.layers.MaxPool1D(pool_size = 2)(x)\n",
    "    x = tf.keras.layers.Conv1D(filters=16, padding = 'same', kernel_size=5, activation='relu')(x)\n",
    "    #x = tf.keras.layers.BatchNormalization()(x)\n",
    "    x = tf.keras.layers.MaxPool1D(pool_size = 4)(x)                           \n",
    "    x = tf.keras.layers.Conv1D(filters=32, padding = 'same', kernel_size=5, activation='relu')(x)\n",
    "    #x = tf.keras.layers.BatchNormalization()(x)\n",
    "    x = tf.keras.layers.MaxPool1D(pool_size = 2)(x)\n",
    "    x = tf.keras.layers.Conv1D(filters=32, padding = 'same', kernel_size=5, activation='relu')(x)\n",
    "    #x = tf.keras.layers.BatchNormalization()(x)\n",
    "    x = tf.keras.layers.MaxPool1D(pool_size = 4)(x)\n",
    "    x = tf.keras.layers.Conv1D(filters=64, padding = 'same', kernel_size=5, activation='relu')(x)\n",
    "    #x = tf.keras.layers.BatchNormalization()(x)\n",
    "    x = tf.keras.layers.MaxPool1D(pool_size = 2)(x)\n",
    "    x = tf.keras.layers.Conv1D(filters=64, padding = 'same', kernel_size=3, activation='relu')(x)\n",
    "    #x = tf.keras.layers.BatchNormalization()(x)\n",
    "    x = tf.keras.layers.MaxPool1D(pool_size = 2)(x)\n",
    "    x = tf.keras.layers.Conv1D(filters=64, padding = 'same', kernel_size=3, activation='relu')(x)\n",
    "    #x = tf.keras.layers.BatchNormalization()(x)\n",
    "    x = tf.keras.layers.MaxPool1D(pool_size = 2)(x)\n",
    "    x = tf.keras.layers.Conv1D(filters=64, padding = 'same', kernel_size=3, activation='relu')(x)\n",
    "    #x = tf.keras.layers.BatchNormalization()(x)\n",
    "\n",
    "    x = tf.keras.layers.Conv1D(filters=128, padding = 'same', kernel_size=12, activation='relu')(x)\n",
    "    #x = tf.keras.layers.BatchNormalization()(x)\n",
    "    x = tf.keras.layers.MaxPool1D(pool_size = 2)(x)\n",
    "    x = tf.keras.layers.GlobalAveragePooling1D()(x)\n",
    "\n",
    "    x = tf.keras.layers.Dense(128, activation='relu')(x)\n",
    "    #x = tf.keras.layers.BatchNormalization()(x)\n",
    "    x = tf.keras.layers.Dropout(0.5)(x)\n",
    "    x = tf.keras.layers.Dense(64, activation='relu')(x)\n",
    "    #x = tf.keras.layers.BatchNormalization()(x)\n",
    "    x = tf.keras.layers.Dropout(0.5)(x)\n",
    "\n",
    "    outputs = tf.keras.layers.Dense(50, activation = 'softmax')(x)\n",
    "    \n",
    "    return tf.keras.Model(inputs=inputs, outputs=outputs)"
   ]
  },
  {
   "cell_type": "code",
   "execution_count": 9,
   "id": "ac5a22ac",
   "metadata": {},
   "outputs": [
    {
     "name": "stdout",
     "output_type": "stream",
     "text": [
      "Model: \"model\"\n",
      "_________________________________________________________________\n",
      " Layer (type)                Output Shape              Param #   \n",
      "=================================================================\n",
      " input_1 (InputLayer)        [(None, 5120, 8)]         0         \n",
      "                                                                 \n",
      " conv1d (Conv1D)             (None, 5120, 16)          912       \n",
      "                                                                 \n",
      " max_pooling1d (MaxPooling1D  (None, 2560, 16)         0         \n",
      " )                                                               \n",
      "                                                                 \n",
      " conv1d_1 (Conv1D)           (None, 2560, 16)          1296      \n",
      "                                                                 \n",
      " max_pooling1d_1 (MaxPooling  (None, 640, 16)          0         \n",
      " 1D)                                                             \n",
      "                                                                 \n",
      " conv1d_2 (Conv1D)           (None, 640, 32)           2592      \n",
      "                                                                 \n",
      " max_pooling1d_2 (MaxPooling  (None, 320, 32)          0         \n",
      " 1D)                                                             \n",
      "                                                                 \n",
      " conv1d_3 (Conv1D)           (None, 320, 32)           5152      \n",
      "                                                                 \n",
      " max_pooling1d_3 (MaxPooling  (None, 80, 32)           0         \n",
      " 1D)                                                             \n",
      "                                                                 \n",
      " conv1d_4 (Conv1D)           (None, 80, 64)            10304     \n",
      "                                                                 \n",
      " max_pooling1d_4 (MaxPooling  (None, 40, 64)           0         \n",
      " 1D)                                                             \n",
      "                                                                 \n",
      " conv1d_5 (Conv1D)           (None, 40, 64)            12352     \n",
      "                                                                 \n",
      " max_pooling1d_5 (MaxPooling  (None, 20, 64)           0         \n",
      " 1D)                                                             \n",
      "                                                                 \n",
      " conv1d_6 (Conv1D)           (None, 20, 64)            12352     \n",
      "                                                                 \n",
      " max_pooling1d_6 (MaxPooling  (None, 10, 64)           0         \n",
      " 1D)                                                             \n",
      "                                                                 \n",
      " conv1d_7 (Conv1D)           (None, 10, 64)            12352     \n",
      "                                                                 \n",
      " conv1d_8 (Conv1D)           (None, 10, 128)           98432     \n",
      "                                                                 \n",
      " max_pooling1d_7 (MaxPooling  (None, 5, 128)           0         \n",
      " 1D)                                                             \n",
      "                                                                 \n",
      " global_average_pooling1d (G  (None, 128)              0         \n",
      " lobalAveragePooling1D)                                          \n",
      "                                                                 \n",
      " dense (Dense)               (None, 128)               16512     \n",
      "                                                                 \n",
      " dropout (Dropout)           (None, 128)               0         \n",
      "                                                                 \n",
      " dense_1 (Dense)             (None, 64)                8256      \n",
      "                                                                 \n",
      " dropout_1 (Dropout)         (None, 64)                0         \n",
      "                                                                 \n",
      " dense_2 (Dense)             (None, 50)                3250      \n",
      "                                                                 \n",
      "=================================================================\n",
      "Total params: 183,762\n",
      "Trainable params: 183,762\n",
      "Non-trainable params: 0\n",
      "_________________________________________________________________\n"
     ]
    }
   ],
   "source": [
    "model = Model()\n",
    "model.summary()"
   ]
  },
  {
   "cell_type": "markdown",
   "id": "392e883a",
   "metadata": {},
   "source": [
    "# Train the Model"
   ]
  },
  {
   "cell_type": "markdown",
   "id": "1d310ce3",
   "metadata": {},
   "source": [
    "## Step1. Import WandB and Login"
   ]
  },
  {
   "cell_type": "code",
   "execution_count": 10,
   "id": "c3860e56",
   "metadata": {},
   "outputs": [
    {
     "name": "stderr",
     "output_type": "stream",
     "text": [
      "Failed to detect the name of this notebook, you can set it manually with the WANDB_NOTEBOOK_NAME environment variable to enable code saving.\n",
      "\u001b[34m\u001b[1mwandb\u001b[0m: Currently logged in as: \u001b[33mkyulee\u001b[0m (use `wandb login --relogin` to force relogin)\n"
     ]
    },
    {
     "data": {
      "text/plain": [
       "True"
      ]
     },
     "execution_count": 10,
     "metadata": {},
     "output_type": "execute_result"
    }
   ],
   "source": [
    "import wandb\n",
    "from wandb.keras import WandbCallback\n",
    "\n",
    "wandb.login()"
   ]
  },
  {
   "cell_type": "markdown",
   "id": "638f70dc",
   "metadata": {},
   "source": [
    "## Step2. Set x, y, model and Run"
   ]
  },
  {
   "cell_type": "code",
   "execution_count": null,
   "id": "4a94001c",
   "metadata": {},
   "outputs": [],
   "source": [
    "#class_weight = {0:1, 1:10}"
   ]
  },
  {
   "cell_type": "code",
   "execution_count": 11,
   "id": "28e16ee4",
   "metadata": {},
   "outputs": [
    {
     "data": {
      "text/html": [
       "wandb version 0.12.18 is available!  To upgrade, please run:\n",
       " $ pip install wandb --upgrade"
      ],
      "text/plain": [
       "<IPython.core.display.HTML object>"
      ]
     },
     "metadata": {},
     "output_type": "display_data"
    },
    {
     "data": {
      "text/html": [
       "Tracking run with wandb version 0.12.15"
      ],
      "text/plain": [
       "<IPython.core.display.HTML object>"
      ]
     },
     "metadata": {},
     "output_type": "display_data"
    },
    {
     "data": {
      "text/html": [
       "Run data is saved locally in <code>/home/ubuntu/Kyulee/wandb/run-20220617_003445-1ddemb6z</code>"
      ],
      "text/plain": [
       "<IPython.core.display.HTML object>"
      ]
     },
     "metadata": {},
     "output_type": "display_data"
    },
    {
     "data": {
      "text/html": [
       "Syncing run <strong><a href=\"https://wandb.ai/kyulee/PTB-XL/runs/1ddemb6z\" target=\"_blank\">laced-glade-7</a></strong> to <a href=\"https://wandb.ai/kyulee/PTB-XL\" target=\"_blank\">Weights & Biases</a> (<a href=\"https://wandb.me/run\" target=\"_blank\">docs</a>)<br/>"
      ],
      "text/plain": [
       "<IPython.core.display.HTML object>"
      ]
     },
     "metadata": {},
     "output_type": "display_data"
    },
    {
     "name": "stdout",
     "output_type": "stream",
     "text": [
      "Model: \"model\"\n",
      "_________________________________________________________________\n",
      " Layer (type)                Output Shape              Param #   \n",
      "=================================================================\n",
      " input_1 (InputLayer)        [(None, 5120, 8)]         0         \n",
      "                                                                 \n",
      " conv1d (Conv1D)             (None, 5120, 16)          912       \n",
      "                                                                 \n",
      " max_pooling1d (MaxPooling1D  (None, 2560, 16)         0         \n",
      " )                                                               \n",
      "                                                                 \n",
      " conv1d_1 (Conv1D)           (None, 2560, 16)          1296      \n",
      "                                                                 \n",
      " max_pooling1d_1 (MaxPooling  (None, 640, 16)          0         \n",
      " 1D)                                                             \n",
      "                                                                 \n",
      " conv1d_2 (Conv1D)           (None, 640, 32)           2592      \n",
      "                                                                 \n",
      " max_pooling1d_2 (MaxPooling  (None, 320, 32)          0         \n",
      " 1D)                                                             \n",
      "                                                                 \n",
      " conv1d_3 (Conv1D)           (None, 320, 32)           5152      \n",
      "                                                                 \n",
      " max_pooling1d_3 (MaxPooling  (None, 80, 32)           0         \n",
      " 1D)                                                             \n",
      "                                                                 \n",
      " conv1d_4 (Conv1D)           (None, 80, 64)            10304     \n",
      "                                                                 \n",
      " max_pooling1d_4 (MaxPooling  (None, 40, 64)           0         \n",
      " 1D)                                                             \n",
      "                                                                 \n",
      " conv1d_5 (Conv1D)           (None, 40, 64)            12352     \n",
      "                                                                 \n",
      " max_pooling1d_5 (MaxPooling  (None, 20, 64)           0         \n",
      " 1D)                                                             \n",
      "                                                                 \n",
      " conv1d_6 (Conv1D)           (None, 20, 64)            12352     \n",
      "                                                                 \n",
      " max_pooling1d_6 (MaxPooling  (None, 10, 64)           0         \n",
      " 1D)                                                             \n",
      "                                                                 \n",
      " conv1d_7 (Conv1D)           (None, 10, 64)            12352     \n",
      "                                                                 \n",
      " conv1d_8 (Conv1D)           (None, 10, 128)           98432     \n",
      "                                                                 \n",
      " max_pooling1d_7 (MaxPooling  (None, 5, 128)           0         \n",
      " 1D)                                                             \n",
      "                                                                 \n",
      " global_average_pooling1d (G  (None, 128)              0         \n",
      " lobalAveragePooling1D)                                          \n",
      "                                                                 \n",
      " dense (Dense)               (None, 128)               16512     \n",
      "                                                                 \n",
      " dropout (Dropout)           (None, 128)               0         \n",
      "                                                                 \n",
      " dense_1 (Dense)             (None, 64)                8256      \n",
      "                                                                 \n",
      " dropout_1 (Dropout)         (None, 64)                0         \n",
      "                                                                 \n",
      " dense_2 (Dense)             (None, 50)                3250      \n",
      "                                                                 \n",
      "=================================================================\n",
      "Total params: 183,762\n",
      "Trainable params: 183,762\n",
      "Non-trainable params: 0\n",
      "_________________________________________________________________\n"
     ]
    }
   ],
   "source": [
    "model_name = '220617_0935'\n",
    "model_path = os.path.join('ami_model', model_name + '_bestmodel.h5')\n",
    "\n",
    "checkpoint = tf.keras.callbacks.ModelCheckpoint(filepath=model_path,\n",
    "                                                monitor='val_accuracy',\n",
    "                                                verbose=1,\n",
    "                                                save_weights_only=False,\n",
    "                                                save_best_only=True,\n",
    "                                                mode='auto',\n",
    "                                                save_freq='epoch')\n",
    "\n",
    "run = wandb.init(project='PTB-XL', entity='kyulee', \n",
    "                 config={\n",
    "                     #'class_weight': '{0:1, 1:10}', \n",
    "                     'batch_size':256, \n",
    "                     'epochs':50,\n",
    "                     'loss_function':'binary_crossentropy', \n",
    "                     'architecture':'simple_Attia', \n",
    "                 })\n",
    "\n",
    "config = wandb.config\n",
    "\n",
    "model.summary()\n",
    "\n",
    "\n",
    "model.compile(optimizer='adam', loss=config.loss_function, metrics=['accuracy'])"
   ]
  },
  {
   "cell_type": "code",
   "execution_count": 12,
   "id": "ad4b2c61",
   "metadata": {
    "scrolled": false
   },
   "outputs": [
    {
     "name": "stdout",
     "output_type": "stream",
     "text": [
      "Epoch 1/50\n",
      "51/51 [==============================] - ETA: 0s - loss: 0.3938 - accuracy: 0.0560\n",
      "Epoch 00001: val_accuracy improved from -inf to 0.41620, saving model to ami_model/220617_0935_bestmodel.h5\n",
      "51/51 [==============================] - 10s 130ms/step - loss: 0.3938 - accuracy: 0.0560 - val_loss: 0.0992 - val_accuracy: 0.4162 - _timestamp: 1655426114.0000 - _runtime: 29.0000\n",
      "Epoch 2/50\n",
      "51/51 [==============================] - ETA: 0s - loss: 0.1302 - accuracy: 0.2625\n",
      "Epoch 00002: val_accuracy did not improve from 0.41620\n",
      "51/51 [==============================] - 3s 50ms/step - loss: 0.1302 - accuracy: 0.2625 - val_loss: 0.0864 - val_accuracy: 0.4162 - _timestamp: 1655426117.0000 - _runtime: 32.0000\n",
      "Epoch 3/50\n",
      "51/51 [==============================] - ETA: 0s - loss: 0.1075 - accuracy: 0.3630\n",
      "Epoch 00003: val_accuracy did not improve from 0.41620\n",
      "51/51 [==============================] - 2s 47ms/step - loss: 0.1075 - accuracy: 0.3630 - val_loss: 0.0854 - val_accuracy: 0.4162 - _timestamp: 1655426119.0000 - _runtime: 34.0000\n",
      "Epoch 4/50\n",
      "51/51 [==============================] - ETA: 0s - loss: 0.0977 - accuracy: 0.3889\n",
      "Epoch 00004: val_accuracy did not improve from 0.41620\n",
      "51/51 [==============================] - 2s 47ms/step - loss: 0.0977 - accuracy: 0.3889 - val_loss: 0.0787 - val_accuracy: 0.4162 - _timestamp: 1655426121.0000 - _runtime: 36.0000\n",
      "Epoch 5/50\n",
      "51/51 [==============================] - ETA: 0s - loss: 0.0910 - accuracy: 0.4080\n",
      "Epoch 00005: val_accuracy improved from 0.41620 to 0.45740, saving model to ami_model/220617_0935_bestmodel.h5\n",
      "51/51 [==============================] - 2s 48ms/step - loss: 0.0910 - accuracy: 0.4080 - val_loss: 0.0750 - val_accuracy: 0.4574 - _timestamp: 1655426124.0000 - _runtime: 39.0000\n",
      "Epoch 6/50\n",
      "51/51 [==============================] - ETA: 0s - loss: 0.0874 - accuracy: 0.4214\n",
      "Epoch 00006: val_accuracy did not improve from 0.45740\n",
      "51/51 [==============================] - 2s 47ms/step - loss: 0.0874 - accuracy: 0.4214 - val_loss: 0.0749 - val_accuracy: 0.4476 - _timestamp: 1655426126.0000 - _runtime: 41.0000\n",
      "Epoch 7/50\n",
      "51/51 [==============================] - ETA: 0s - loss: 0.0842 - accuracy: 0.4278\n",
      "Epoch 00007: val_accuracy improved from 0.45740 to 0.46578, saving model to ami_model/220617_0935_bestmodel.h5\n",
      "51/51 [==============================] - 2s 48ms/step - loss: 0.0842 - accuracy: 0.4278 - val_loss: 0.0725 - val_accuracy: 0.4658 - _timestamp: 1655426129.0000 - _runtime: 44.0000\n",
      "Epoch 8/50\n",
      "51/51 [==============================] - ETA: 0s - loss: 0.0822 - accuracy: 0.4388\n",
      "Epoch 00008: val_accuracy improved from 0.46578 to 0.48673, saving model to ami_model/220617_0935_bestmodel.h5\n",
      "51/51 [==============================] - 2s 48ms/step - loss: 0.0822 - accuracy: 0.4388 - val_loss: 0.0716 - val_accuracy: 0.4867 - _timestamp: 1655426131.0000 - _runtime: 46.0000\n",
      "Epoch 9/50\n",
      "51/51 [==============================] - ETA: 0s - loss: 0.0804 - accuracy: 0.4430\n",
      "Epoch 00009: val_accuracy did not improve from 0.48673\n",
      "51/51 [==============================] - 2s 47ms/step - loss: 0.0804 - accuracy: 0.4430 - val_loss: 0.0703 - val_accuracy: 0.4818 - _timestamp: 1655426134.0000 - _runtime: 49.0000\n",
      "Epoch 10/50\n",
      "51/51 [==============================] - ETA: 0s - loss: 0.0790 - accuracy: 0.4526\n",
      "Epoch 00010: val_accuracy did not improve from 0.48673\n",
      "51/51 [==============================] - 2s 47ms/step - loss: 0.0790 - accuracy: 0.4526 - val_loss: 0.0698 - val_accuracy: 0.4721 - _timestamp: 1655426136.0000 - _runtime: 51.0000\n",
      "Epoch 11/50\n",
      "51/51 [==============================] - ETA: 0s - loss: 0.0774 - accuracy: 0.4563\n",
      "Epoch 00011: val_accuracy improved from 0.48673 to 0.50070, saving model to ami_model/220617_0935_bestmodel.h5\n",
      "51/51 [==============================] - 2s 49ms/step - loss: 0.0774 - accuracy: 0.4563 - val_loss: 0.0682 - val_accuracy: 0.5007 - _timestamp: 1655426138.0000 - _runtime: 53.0000\n",
      "Epoch 12/50\n",
      "51/51 [==============================] - ETA: 0s - loss: 0.0755 - accuracy: 0.4681\n",
      "Epoch 00012: val_accuracy did not improve from 0.50070\n",
      "51/51 [==============================] - 2s 46ms/step - loss: 0.0755 - accuracy: 0.4681 - val_loss: 0.0691 - val_accuracy: 0.4749 - _timestamp: 1655426141.0000 - _runtime: 56.0000\n",
      "Epoch 13/50\n",
      "51/51 [==============================] - ETA: 0s - loss: 0.0762 - accuracy: 0.4679\n",
      "Epoch 00013: val_accuracy improved from 0.50070 to 0.50279, saving model to ami_model/220617_0935_bestmodel.h5\n",
      "51/51 [==============================] - 2s 48ms/step - loss: 0.0762 - accuracy: 0.4679 - val_loss: 0.0659 - val_accuracy: 0.5028 - _timestamp: 1655426143.0000 - _runtime: 58.0000\n",
      "Epoch 14/50\n",
      "51/51 [==============================] - ETA: 0s - loss: 0.0731 - accuracy: 0.4834\n",
      "Epoch 00014: val_accuracy did not improve from 0.50279\n",
      "51/51 [==============================] - 2s 46ms/step - loss: 0.0731 - accuracy: 0.4834 - val_loss: 0.0686 - val_accuracy: 0.4784 - _timestamp: 1655426146.0000 - _runtime: 61.0000\n",
      "Epoch 15/50\n",
      "51/51 [==============================] - ETA: 0s - loss: 0.0721 - accuracy: 0.4907\n",
      "Epoch 00015: val_accuracy improved from 0.50279 to 0.51816, saving model to ami_model/220617_0935_bestmodel.h5\n",
      "51/51 [==============================] - 2s 48ms/step - loss: 0.0721 - accuracy: 0.4907 - val_loss: 0.0644 - val_accuracy: 0.5182 - _timestamp: 1655426148.0000 - _runtime: 63.0000\n",
      "Epoch 16/50\n",
      "51/51 [==============================] - ETA: 0s - loss: 0.0709 - accuracy: 0.4962\n",
      "Epoch 00016: val_accuracy did not improve from 0.51816\n",
      "51/51 [==============================] - 2s 47ms/step - loss: 0.0709 - accuracy: 0.4962 - val_loss: 0.0640 - val_accuracy: 0.5154 - _timestamp: 1655426150.0000 - _runtime: 65.0000\n",
      "Epoch 17/50\n",
      "51/51 [==============================] - ETA: 0s - loss: 0.0700 - accuracy: 0.5020\n",
      "Epoch 00017: val_accuracy improved from 0.51816 to 0.53003, saving model to ami_model/220617_0935_bestmodel.h5\n",
      "51/51 [==============================] - 2s 49ms/step - loss: 0.0700 - accuracy: 0.5020 - val_loss: 0.0630 - val_accuracy: 0.5300 - _timestamp: 1655426153.0000 - _runtime: 68.0000\n",
      "Epoch 18/50\n",
      "51/51 [==============================] - ETA: 0s - loss: 0.0689 - accuracy: 0.5126\n",
      "Epoch 00018: val_accuracy improved from 0.53003 to 0.53422, saving model to ami_model/220617_0935_bestmodel.h5\n",
      "51/51 [==============================] - 2s 47ms/step - loss: 0.0689 - accuracy: 0.5126 - val_loss: 0.0634 - val_accuracy: 0.5342 - _timestamp: 1655426155.0000 - _runtime: 70.0000\n",
      "Epoch 19/50\n",
      "51/51 [==============================] - ETA: 0s - loss: 0.0677 - accuracy: 0.5232\n",
      "Epoch 00019: val_accuracy improved from 0.53422 to 0.54260, saving model to ami_model/220617_0935_bestmodel.h5\n",
      "51/51 [==============================] - 2s 47ms/step - loss: 0.0677 - accuracy: 0.5232 - val_loss: 0.0633 - val_accuracy: 0.5426 - _timestamp: 1655426158.0000 - _runtime: 73.0000\n",
      "Epoch 20/50\n",
      "51/51 [==============================] - ETA: 0s - loss: 0.0671 - accuracy: 0.5236\n",
      "Epoch 00020: val_accuracy did not improve from 0.54260\n",
      "51/51 [==============================] - 2s 47ms/step - loss: 0.0671 - accuracy: 0.5236 - val_loss: 0.0615 - val_accuracy: 0.5426 - _timestamp: 1655426160.0000 - _runtime: 75.0000\n",
      "Epoch 21/50\n",
      "51/51 [==============================] - ETA: 0s - loss: 0.0666 - accuracy: 0.5348\n",
      "Epoch 00021: val_accuracy improved from 0.54260 to 0.55517, saving model to ami_model/220617_0935_bestmodel.h5\n",
      "51/51 [==============================] - 2s 48ms/step - loss: 0.0666 - accuracy: 0.5348 - val_loss: 0.0609 - val_accuracy: 0.5552 - _timestamp: 1655426163.0000 - _runtime: 78.0000\n",
      "Epoch 22/50\n",
      "51/51 [==============================] - ETA: 0s - loss: 0.0658 - accuracy: 0.5404\n",
      "Epoch 00022: val_accuracy improved from 0.55517 to 0.57193, saving model to ami_model/220617_0935_bestmodel.h5\n",
      "51/51 [==============================] - 2s 49ms/step - loss: 0.0658 - accuracy: 0.5404 - val_loss: 0.0602 - val_accuracy: 0.5719 - _timestamp: 1655426165.0000 - _runtime: 80.0000\n",
      "Epoch 23/50\n",
      "51/51 [==============================] - ETA: 0s - loss: 0.0641 - accuracy: 0.5571\n",
      "Epoch 00023: val_accuracy did not improve from 0.57193\n",
      "51/51 [==============================] - 2s 47ms/step - loss: 0.0641 - accuracy: 0.5571 - val_loss: 0.0601 - val_accuracy: 0.5649 - _timestamp: 1655426167.0000 - _runtime: 82.0000\n",
      "Epoch 24/50\n",
      "51/51 [==============================] - ETA: 0s - loss: 0.0639 - accuracy: 0.5602\n",
      "Epoch 00024: val_accuracy improved from 0.57193 to 0.57751, saving model to ami_model/220617_0935_bestmodel.h5\n",
      "51/51 [==============================] - 2s 49ms/step - loss: 0.0639 - accuracy: 0.5602 - val_loss: 0.0595 - val_accuracy: 0.5775 - _timestamp: 1655426170.0000 - _runtime: 85.0000\n",
      "Epoch 25/50\n",
      "51/51 [==============================] - ETA: 0s - loss: 0.0630 - accuracy: 0.5709\n",
      "Epoch 00025: val_accuracy improved from 0.57751 to 0.58450, saving model to ami_model/220617_0935_bestmodel.h5\n",
      "51/51 [==============================] - 2s 49ms/step - loss: 0.0630 - accuracy: 0.5709 - val_loss: 0.0591 - val_accuracy: 0.5845 - _timestamp: 1655426172.0000 - _runtime: 87.0000\n",
      "Epoch 26/50\n",
      "51/51 [==============================] - ETA: 0s - loss: 0.0627 - accuracy: 0.5798\n",
      "Epoch 00026: val_accuracy improved from 0.58450 to 0.58799, saving model to ami_model/220617_0935_bestmodel.h5\n",
      "51/51 [==============================] - 3s 49ms/step - loss: 0.0627 - accuracy: 0.5798 - val_loss: 0.0586 - val_accuracy: 0.5880 - _timestamp: 1655426175.0000 - _runtime: 90.0000\n",
      "Epoch 27/50\n",
      "51/51 [==============================] - ETA: 0s - loss: 0.0616 - accuracy: 0.5856\n",
      "Epoch 00027: val_accuracy improved from 0.58799 to 0.58869, saving model to ami_model/220617_0935_bestmodel.h5\n",
      "51/51 [==============================] - 2s 48ms/step - loss: 0.0616 - accuracy: 0.5856 - val_loss: 0.0585 - val_accuracy: 0.5887 - _timestamp: 1655426177.0000 - _runtime: 92.0000\n",
      "Epoch 28/50\n",
      "51/51 [==============================] - ETA: 0s - loss: 0.0612 - accuracy: 0.5844\n",
      "Epoch 00028: val_accuracy improved from 0.58869 to 0.58939, saving model to ami_model/220617_0935_bestmodel.h5\n",
      "51/51 [==============================] - 2s 47ms/step - loss: 0.0612 - accuracy: 0.5844 - val_loss: 0.0588 - val_accuracy: 0.5894 - _timestamp: 1655426180.0000 - _runtime: 95.0000\n",
      "Epoch 29/50\n",
      "51/51 [==============================] - ETA: 0s - loss: 0.0606 - accuracy: 0.5908\n",
      "Epoch 00029: val_accuracy improved from 0.58939 to 0.59637, saving model to ami_model/220617_0935_bestmodel.h5\n",
      "51/51 [==============================] - 2s 48ms/step - loss: 0.0606 - accuracy: 0.5908 - val_loss: 0.0582 - val_accuracy: 0.5964 - _timestamp: 1655426182.0000 - _runtime: 97.0000\n",
      "Epoch 30/50\n",
      "51/51 [==============================] - ETA: 0s - loss: 0.0600 - accuracy: 0.5933\n",
      "Epoch 00030: val_accuracy did not improve from 0.59637\n",
      "51/51 [==============================] - 2s 46ms/step - loss: 0.0600 - accuracy: 0.5933 - val_loss: 0.0600 - val_accuracy: 0.5538 - _timestamp: 1655426185.0000 - _runtime: 100.0000\n",
      "Epoch 31/50\n",
      "51/51 [==============================] - ETA: 0s - loss: 0.0599 - accuracy: 0.5955\n",
      "Epoch 00031: val_accuracy did not improve from 0.59637\n",
      "51/51 [==============================] - 2s 46ms/step - loss: 0.0599 - accuracy: 0.5955 - val_loss: 0.0589 - val_accuracy: 0.5922 - _timestamp: 1655426187.0000 - _runtime: 102.0000\n",
      "Epoch 32/50\n",
      "51/51 [==============================] - ETA: 0s - loss: 0.0587 - accuracy: 0.5972\n",
      "Epoch 00032: val_accuracy did not improve from 0.59637\n",
      "51/51 [==============================] - 2s 47ms/step - loss: 0.0587 - accuracy: 0.5972 - val_loss: 0.0584 - val_accuracy: 0.5747 - _timestamp: 1655426189.0000 - _runtime: 104.0000\n",
      "Epoch 33/50\n",
      "51/51 [==============================] - ETA: 0s - loss: 0.0590 - accuracy: 0.5996\n",
      "Epoch 00033: val_accuracy improved from 0.59637 to 0.60056, saving model to ami_model/220617_0935_bestmodel.h5\n",
      "51/51 [==============================] - 2s 48ms/step - loss: 0.0590 - accuracy: 0.5996 - val_loss: 0.0582 - val_accuracy: 0.6006 - _timestamp: 1655426192.0000 - _runtime: 107.0000\n",
      "Epoch 34/50\n",
      "51/51 [==============================] - ETA: 0s - loss: 0.0571 - accuracy: 0.6085\n",
      "Epoch 00034: val_accuracy improved from 0.60056 to 0.60475, saving model to ami_model/220617_0935_bestmodel.h5\n",
      "51/51 [==============================] - 2s 48ms/step - loss: 0.0571 - accuracy: 0.6085 - val_loss: 0.0582 - val_accuracy: 0.6047 - _timestamp: 1655426194.0000 - _runtime: 109.0000\n",
      "Epoch 35/50\n",
      "51/51 [==============================] - ETA: 0s - loss: 0.0575 - accuracy: 0.6104\n",
      "Epoch 00035: val_accuracy improved from 0.60475 to 0.61592, saving model to ami_model/220617_0935_bestmodel.h5\n",
      "51/51 [==============================] - 2s 47ms/step - loss: 0.0575 - accuracy: 0.6104 - val_loss: 0.0584 - val_accuracy: 0.6159 - _timestamp: 1655426197.0000 - _runtime: 112.0000\n",
      "Epoch 36/50\n",
      "51/51 [==============================] - ETA: 0s - loss: 0.0557 - accuracy: 0.6210\n",
      "Epoch 00036: val_accuracy improved from 0.61592 to 0.61732, saving model to ami_model/220617_0935_bestmodel.h5\n",
      "51/51 [==============================] - 2s 49ms/step - loss: 0.0557 - accuracy: 0.6210 - val_loss: 0.0576 - val_accuracy: 0.6173 - _timestamp: 1655426199.0000 - _runtime: 114.0000\n",
      "Epoch 37/50\n",
      "51/51 [==============================] - ETA: 0s - loss: 0.0560 - accuracy: 0.6166\n",
      "Epoch 00037: val_accuracy did not improve from 0.61732\n",
      "51/51 [==============================] - 2s 47ms/step - loss: 0.0560 - accuracy: 0.6166 - val_loss: 0.0576 - val_accuracy: 0.5992 - _timestamp: 1655426202.0000 - _runtime: 117.0000\n",
      "Epoch 38/50\n",
      "51/51 [==============================] - ETA: 0s - loss: 0.0555 - accuracy: 0.6179\n",
      "Epoch 00038: val_accuracy did not improve from 0.61732\n",
      "51/51 [==============================] - 2s 46ms/step - loss: 0.0555 - accuracy: 0.6179 - val_loss: 0.0585 - val_accuracy: 0.5880 - _timestamp: 1655426204.0000 - _runtime: 119.0000\n",
      "Epoch 39/50\n",
      "51/51 [==============================] - ETA: 0s - loss: 0.0547 - accuracy: 0.6289\n",
      "Epoch 00039: val_accuracy did not improve from 0.61732\n",
      "51/51 [==============================] - 2s 46ms/step - loss: 0.0547 - accuracy: 0.6289 - val_loss: 0.0606 - val_accuracy: 0.5901 - _timestamp: 1655426206.0000 - _runtime: 121.0000\n",
      "Epoch 40/50\n",
      "51/51 [==============================] - ETA: 0s - loss: 0.0546 - accuracy: 0.6240\n",
      "Epoch 00040: val_accuracy did not improve from 0.61732\n",
      "51/51 [==============================] - 2s 46ms/step - loss: 0.0546 - accuracy: 0.6240 - val_loss: 0.0579 - val_accuracy: 0.6047 - _timestamp: 1655426209.0000 - _runtime: 124.0000\n",
      "Epoch 41/50\n",
      "51/51 [==============================] - ETA: 0s - loss: 0.0529 - accuracy: 0.6328\n",
      "Epoch 00041: val_accuracy did not improve from 0.61732\n",
      "51/51 [==============================] - 2s 46ms/step - loss: 0.0529 - accuracy: 0.6328 - val_loss: 0.0584 - val_accuracy: 0.6103 - _timestamp: 1655426211.0000 - _runtime: 126.0000\n",
      "Epoch 42/50\n",
      "51/51 [==============================] - ETA: 0s - loss: 0.0529 - accuracy: 0.6307\n",
      "Epoch 00042: val_accuracy did not improve from 0.61732\n",
      "51/51 [==============================] - 2s 46ms/step - loss: 0.0529 - accuracy: 0.6307 - val_loss: 0.0597 - val_accuracy: 0.6041 - _timestamp: 1655426213.0000 - _runtime: 128.0000\n",
      "Epoch 43/50\n",
      "51/51 [==============================] - ETA: 0s - loss: 0.0515 - accuracy: 0.6379\n",
      "Epoch 00043: val_accuracy did not improve from 0.61732\n",
      "51/51 [==============================] - 2s 46ms/step - loss: 0.0515 - accuracy: 0.6379 - val_loss: 0.0627 - val_accuracy: 0.5915 - _timestamp: 1655426216.0000 - _runtime: 131.0000\n",
      "Epoch 44/50\n",
      "51/51 [==============================] - ETA: 0s - loss: 0.0523 - accuracy: 0.6312\n",
      "Epoch 00044: val_accuracy did not improve from 0.61732\n",
      "51/51 [==============================] - 2s 46ms/step - loss: 0.0523 - accuracy: 0.6312 - val_loss: 0.0586 - val_accuracy: 0.5985 - _timestamp: 1655426218.0000 - _runtime: 133.0000\n",
      "Epoch 45/50\n",
      "51/51 [==============================] - ETA: 0s - loss: 0.0510 - accuracy: 0.6397\n",
      "Epoch 00045: val_accuracy did not improve from 0.61732\n",
      "51/51 [==============================] - 2s 46ms/step - loss: 0.0510 - accuracy: 0.6397 - val_loss: 0.0607 - val_accuracy: 0.5838 - _timestamp: 1655426220.0000 - _runtime: 135.0000\n",
      "Epoch 46/50\n",
      "51/51 [==============================] - ETA: 0s - loss: 0.0505 - accuracy: 0.6400\n",
      "Epoch 00046: val_accuracy did not improve from 0.61732\n",
      "51/51 [==============================] - 2s 46ms/step - loss: 0.0505 - accuracy: 0.6400 - val_loss: 0.0625 - val_accuracy: 0.5992 - _timestamp: 1655426223.0000 - _runtime: 138.0000\n",
      "Epoch 47/50\n",
      "51/51 [==============================] - ETA: 0s - loss: 0.0502 - accuracy: 0.6450\n",
      "Epoch 00047: val_accuracy did not improve from 0.61732\n",
      "51/51 [==============================] - 2s 46ms/step - loss: 0.0502 - accuracy: 0.6450 - val_loss: 0.0618 - val_accuracy: 0.5887 - _timestamp: 1655426225.0000 - _runtime: 140.0000\n",
      "Epoch 48/50\n",
      "51/51 [==============================] - ETA: 0s - loss: 0.0496 - accuracy: 0.6462\n",
      "Epoch 00048: val_accuracy did not improve from 0.61732\n",
      "51/51 [==============================] - 2s 46ms/step - loss: 0.0496 - accuracy: 0.6462 - val_loss: 0.0607 - val_accuracy: 0.6082 - _timestamp: 1655426227.0000 - _runtime: 142.0000\n",
      "Epoch 49/50\n",
      "51/51 [==============================] - ETA: 0s - loss: 0.0491 - accuracy: 0.6476\n",
      "Epoch 00049: val_accuracy did not improve from 0.61732\n",
      "51/51 [==============================] - 2s 47ms/step - loss: 0.0491 - accuracy: 0.6476 - val_loss: 0.0700 - val_accuracy: 0.6054 - _timestamp: 1655426230.0000 - _runtime: 145.0000\n",
      "Epoch 50/50\n",
      "51/51 [==============================] - ETA: 0s - loss: 0.0487 - accuracy: 0.6487\n",
      "Epoch 00050: val_accuracy did not improve from 0.61732\n",
      "51/51 [==============================] - 2s 46ms/step - loss: 0.0487 - accuracy: 0.6487 - val_loss: 0.0601 - val_accuracy: 0.5985 - _timestamp: 1655426232.0000 - _runtime: 147.0000\n",
      "Epochs=50, Train accuracy=0.64869, Validation accuracy=0.61732 \n",
      "\n"
     ]
    },
    {
     "data": {
      "text/html": [
       "Waiting for W&B process to finish... <strong style=\"color:green\">(success).</strong>"
      ],
      "text/plain": [
       "<IPython.core.display.HTML object>"
      ]
     },
     "metadata": {},
     "output_type": "display_data"
    },
    {
     "data": {
      "application/vnd.jupyter.widget-view+json": {
       "model_id": "",
       "version_major": 2,
       "version_minor": 0
      },
      "text/plain": [
       "VBox(children=(Label(value='2.229 MB of 2.229 MB uploaded (0.000 MB deduped)\\r'), FloatProgress(value=1.0, max…"
      ]
     },
     "metadata": {},
     "output_type": "display_data"
    },
    {
     "data": {
      "text/html": [
       "<style>\n",
       "    table.wandb td:nth-child(1) { padding: 0 10px; text-align: right }\n",
       "    .wandb-row { display: flex; flex-direction: row; flex-wrap: wrap; width: 100% }\n",
       "    .wandb-col { display: flex; flex-direction: column; flex-basis: 100%; flex: 1; padding: 10px; }\n",
       "    </style>\n",
       "<div class=\"wandb-row\"><div class=\"wandb-col\"><h3>Run history:</h3><br/><table class=\"wandb\"><tr><td>accuracy</td><td>▁▃▅▅▅▅▆▆▆▆▆▆▆▆▆▇▇▇▇▇▇▇▇▇▇▇▇█████████████</td></tr><tr><td>epoch</td><td>▁▁▁▁▂▂▂▂▂▃▃▃▃▃▃▄▄▄▄▄▅▅▅▅▅▅▆▆▆▆▆▆▇▇▇▇▇███</td></tr><tr><td>loss</td><td>█▃▂▂▂▂▂▂▂▂▂▁▁▁▁▁▁▁▁▁▁▁▁▁▁▁▁▁▁▁▁▁▁▁▁▁▁▁▁▁</td></tr><tr><td>val_accuracy</td><td>▁▁▁▁▂▃▃▃▄▃▄▃▄▅▅▅▆▆▆▇▇▇▇▇▇▇▇██▇▇▇██▇▇▇▇█▇</td></tr><tr><td>val_loss</td><td>█▆▆▅▄▄▃▃▃▃▂▃▂▂▂▂▂▁▁▁▁▁▁▁▁▁▁▁▁▁▁▂▁▁▂▁▂▂▂▁</td></tr></table><br/></div><div class=\"wandb-col\"><h3>Run summary:</h3><br/><table class=\"wandb\"><tr><td>accuracy</td><td>0.64869</td></tr><tr><td>best_epoch</td><td>35</td></tr><tr><td>best_val_loss</td><td>0.05755</td></tr><tr><td>epoch</td><td>49</td></tr><tr><td>loss</td><td>0.0487</td></tr><tr><td>val_accuracy</td><td>0.59846</td></tr><tr><td>val_loss</td><td>0.06005</td></tr></table><br/></div></div>"
      ],
      "text/plain": [
       "<IPython.core.display.HTML object>"
      ]
     },
     "metadata": {},
     "output_type": "display_data"
    },
    {
     "data": {
      "text/html": [
       "Synced <strong style=\"color:#cdcd00\">laced-glade-7</strong>: <a href=\"https://wandb.ai/kyulee/PTB-XL/runs/1ddemb6z\" target=\"_blank\">https://wandb.ai/kyulee/PTB-XL/runs/1ddemb6z</a><br/>Synced 5 W&B file(s), 1 media file(s), 0 artifact file(s) and 1 other file(s)"
      ],
      "text/plain": [
       "<IPython.core.display.HTML object>"
      ]
     },
     "metadata": {},
     "output_type": "display_data"
    },
    {
     "data": {
      "text/html": [
       "Find logs at: <code>./wandb/run-20220617_003445-1ddemb6z/logs</code>"
      ],
      "text/plain": [
       "<IPython.core.display.HTML object>"
      ]
     },
     "metadata": {},
     "output_type": "display_data"
    }
   ],
   "source": [
    "history = model.fit(x_train, y_train, validation_split=0.1, \n",
    "                    batch_size=config.batch_size, \n",
    "                    epochs=config.epochs,\n",
    "                    callbacks=[checkpoint,WandbCallback()],\n",
    "                    #class_weight = class_weight,\n",
    "                    verbose=1)\n",
    "\n",
    "print(\"Epochs={0:d}, Train accuracy={1:.5f}, Validation accuracy={2:.5f} \\n\".format(\n",
    "    config.epochs, max(history.history['accuracy']),max(history.history['val_accuracy']) ))\n",
    "\n",
    "run.finish()"
   ]
  },
  {
   "cell_type": "markdown",
   "id": "10fca955",
   "metadata": {},
   "source": [
    "## Step3. Review Training Process"
   ]
  },
  {
   "cell_type": "code",
   "execution_count": 13,
   "id": "0fd71330",
   "metadata": {},
   "outputs": [
    {
     "data": {
      "image/png": "[encoded data removed]",
      "text/plain": [
       "<Figure size 432x288 with 1 Axes>"
      ]
     },
     "metadata": {
      "needs_background": "light"
     },
     "output_type": "display_data"
    }
   ],
   "source": [
    "# Accuracy 비교\n",
    "plt.plot(history.history['accuracy'])\n",
    "plt.plot(history.history['val_accuracy'])\n",
    "plt.legend(['training', 'validation'], loc = 'lower right')\n",
    "plt.show()"
   ]
  },
  {
   "cell_type": "code",
   "execution_count": 14,
   "id": "33db3b53",
   "metadata": {
    "scrolled": true
   },
   "outputs": [
    {
     "data": {
      "image/png": "[encoded data removed]",
      "text/plain": [
       "<Figure size 432x288 with 1 Axes>"
      ]
     },
     "metadata": {
      "needs_background": "light"
     },
     "output_type": "display_data"
    }
   ],
   "source": [
    "# Loss 비교\n",
    "plt.plot(history.history['loss'])\n",
    "plt.plot(history.history['val_loss'])\n",
    "plt.legend(['training', 'validation'], loc = 'lower right')\n",
    "plt.show()"
   ]
  },
  {
   "cell_type": "markdown",
   "id": "6d3c8834",
   "metadata": {},
   "source": [
    "# Test the Model"
   ]
  },
  {
   "cell_type": "markdown",
   "id": "f1c027a3",
   "metadata": {},
   "source": [
    "## Step1. Test"
   ]
  },
  {
   "cell_type": "code",
   "execution_count": 15,
   "id": "6b4eea35",
   "metadata": {},
   "outputs": [],
   "source": [
    "from sklearn.metrics import accuracy_score\n",
    "\n",
    "# make a prediction on the test set\n",
    "y_proba = model.predict(x_test)\n",
    "# round probabilities to class labels\n",
    "y_pred = y_proba.round()\n",
    "# calculate accuracy\n",
    "acc = accuracy_score(y_test, y_pred)"
   ]
  },
  {
   "cell_type": "code",
   "execution_count": 16,
   "id": "914edbc3",
   "metadata": {},
   "outputs": [
    {
     "data": {
      "text/plain": [
       "0.4818435754189944"
      ]
     },
     "execution_count": 16,
     "metadata": {},
     "output_type": "execute_result"
    }
   ],
   "source": [
    "acc"
   ]
  },
  {
   "cell_type": "markdown",
   "id": "9b7319fc",
   "metadata": {},
   "source": [
    "## Step2. Interpret Test Result"
   ]
  },
  {
   "cell_type": "code",
   "execution_count": 34,
   "id": "05b2dae3",
   "metadata": {},
   "outputs": [],
   "source": [
    "index = 898"
   ]
  },
  {
   "cell_type": "code",
   "execution_count": 40,
   "id": "3df3f070",
   "metadata": {},
   "outputs": [
    {
     "data": {
      "text/plain": [
       "array([0., 0., 0., 0., 0., 0., 0., 0., 0., 0., 0., 0., 0., 0., 0., 0., 0.,\n",
       "       0., 0., 0., 0., 0., 0., 0., 0., 0., 0., 0., 0., 0., 0., 0., 0., 0.,\n",
       "       0., 0., 0., 0., 0., 0., 1., 0., 0., 0., 0., 0., 0., 0., 0., 0.],\n",
       "      dtype=float32)"
      ]
     },
     "execution_count": 40,
     "metadata": {},
     "output_type": "execute_result"
    }
   ],
   "source": [
    "y_pred[index]"
   ]
  },
  {
   "cell_type": "code",
   "execution_count": 41,
   "id": "c2015002",
   "metadata": {},
   "outputs": [
    {
     "data": {
      "text/plain": [
       "array([0, 0, 0, 0, 0, 0, 0, 0, 0, 0, 0, 0, 0, 0, 0, 0, 0, 0, 0, 0, 0, 0,\n",
       "       0, 0, 0, 0, 0, 0, 0, 0, 0, 0, 0, 0, 0, 0, 0, 0, 0, 0, 1, 0, 0, 0,\n",
       "       0, 0, 0, 0, 0, 0])"
      ]
     },
     "execution_count": 41,
     "metadata": {},
     "output_type": "execute_result"
    }
   ],
   "source": [
    "y_test[index]"
   ]
  },
  {
   "cell_type": "code",
   "execution_count": 21,
   "id": "91cb42b2",
   "metadata": {
    "scrolled": true
   },
   "outputs": [
    {
     "name": "stdout",
     "output_type": "stream",
     "text": [
      "              precision    recall  f1-score   support\n",
      "\n",
      "        1AVB       0.00      0.00      0.00       167\n",
      "        2AVB       0.00      0.00      0.00         4\n",
      "        3AVB       0.00      0.00      0.00         2\n",
      "        AFIB       0.00      0.00      0.00        11\n",
      "        AFLT       0.00      0.00      0.00        16\n",
      "        ALMI       0.00      0.00      0.00        41\n",
      "         AMI       0.00      0.00      0.00        27\n",
      "       ANEUR       0.00      0.00      0.00         1\n",
      "        ASMI       0.72      0.35      0.47       311\n",
      "        BIGU       0.00      0.00      0.00         4\n",
      "       CLBBB       0.94      0.84      0.89       106\n",
      "       CRBBB       0.86      0.76      0.80       103\n",
      "         DIG       0.00      0.00      0.00        27\n",
      "          EL       0.00      0.00      0.00         1\n",
      "       ILBBB       0.00      0.00      0.00        15\n",
      "        ILMI       0.00      0.00      0.00        69\n",
      "         IMI       0.00      0.00      0.00       206\n",
      "       INJAL       0.00      0.00      0.00        29\n",
      "       INJAS       0.00      0.00      0.00        43\n",
      "       INJIL       0.00      0.00      0.00         5\n",
      "       INJIN       0.00      0.00      0.00         3\n",
      "       INJLA       0.00      0.00      0.00         1\n",
      "       IPLMI       0.00      0.00      0.00         7\n",
      "        IPMI       0.00      0.00      0.00         6\n",
      "       IRBBB       0.57      0.50      0.53       204\n",
      "       ISCAL       0.00      0.00      0.00       118\n",
      "       ISCAN       0.00      0.00      0.00         7\n",
      "       ISCAS       0.00      0.00      0.00        28\n",
      "       ISCIL       0.00      0.00      0.00        28\n",
      "       ISCIN       0.00      0.00      0.00        34\n",
      "       ISCLA       0.00      0.00      0.00        18\n",
      "        ISC_       0.77      0.36      0.49       227\n",
      "        IVCD       0.00      0.00      0.00       154\n",
      "        LAFB       0.82      0.53      0.64       339\n",
      "     LAO_LAE       0.00      0.00      0.00        50\n",
      "         LMI       0.00      0.00      0.00         6\n",
      "       LNGQT       0.00      0.00      0.00        25\n",
      "        LPFB       0.00      0.00      0.00        40\n",
      "         LVH       0.58      0.19      0.29       208\n",
      "         NDT       0.52      0.44      0.47       365\n",
      "        NORM       0.89      0.84      0.86      1422\n",
      "        NST_       0.00      0.00      0.00       117\n",
      "         PAC       0.00      0.00      0.00         5\n",
      "        PACE       0.92      0.85      0.89        41\n",
      "        PSVT       0.00      0.00      0.00        10\n",
      "         PVC       0.94      0.35      0.51       205\n",
      "     RAO_RAE       0.00      0.00      0.00        17\n",
      "         RVH       0.00      0.00      0.00         9\n",
      "       SEHYP       0.00      0.00      0.00         5\n",
      "         WPW       0.00      0.00      0.00         9\n",
      "\n",
      "   micro avg       0.80      0.44      0.56      4896\n",
      "   macro avg       0.17      0.12      0.14      4896\n",
      "weighted avg       0.57      0.44      0.48      4896\n",
      " samples avg       0.60      0.53      0.55      4896\n",
      "\n"
     ]
    },
    {
     "name": "stderr",
     "output_type": "stream",
     "text": [
      "/home/ubuntu/anaconda3/envs/tensorflow2_p38/lib/python3.8/site-packages/sklearn/metrics/_classification.py:1308: UndefinedMetricWarning: Precision and F-score are ill-defined and being set to 0.0 in labels with no predicted samples. Use `zero_division` parameter to control this behavior.\n",
      "  _warn_prf(average, modifier, msg_start, len(result))\n",
      "/home/ubuntu/anaconda3/envs/tensorflow2_p38/lib/python3.8/site-packages/sklearn/metrics/_classification.py:1308: UndefinedMetricWarning: Precision and F-score are ill-defined and being set to 0.0 in samples with no predicted labels. Use `zero_division` parameter to control this behavior.\n",
      "  _warn_prf(average, modifier, msg_start, len(result))\n"
     ]
    }
   ],
   "source": [
    "from sklearn.metrics import confusion_matrix\n",
    "from sklearn.metrics import classification_report\n",
    "\n",
    "#print(confusion_matrix(y_test, y_pred))\n",
    "print(classification_report(y_test, y_pred, target_names=class_list))"
   ]
  },
  {
   "cell_type": "markdown",
   "id": "0fa5bae5",
   "metadata": {},
   "source": [
    "---"
   ]
  },
  {
   "cell_type": "markdown",
   "id": "98a49c18",
   "metadata": {},
   "source": [
    "# save model"
   ]
  },
  {
   "cell_type": "code",
   "execution_count": 43,
   "id": "6b3c1c48",
   "metadata": {},
   "outputs": [],
   "source": [
    "# save\n",
    "from keras.models import load_model\n",
    "model.save('/home/ubuntu/Kyulee/'+model_name+'_bestmodel.h5')"
   ]
  }
 ],
 "metadata": {
  "kernelspec": {
   "display_name": "Python 3 (ipykernel)",
   "language": "python",
   "name": "python3"
  },
  "language_info": {
   "codemirror_mode": {
    "name": "ipython",
    "version": 3
   },
   "file_extension": ".py",
   "mimetype": "text/x-python",
   "name": "python",
   "nbconvert_exporter": "python",
   "pygments_lexer": "ipython3",
   "version": "3.8.12"
  }
 },
 "nbformat": 4,
 "nbformat_minor": 5
}
