{
 "cells": [
  {
   "cell_type": "markdown",
   "id": "1bc7f2d0",
   "metadata": {},
   "source": [
    "# Import module and data\n",
    "---"
   ]
  },
  {
   "cell_type": "code",
   "execution_count": 1,
   "id": "b6abc828",
   "metadata": {
    "scrolled": true
   },
   "outputs": [],
   "source": [
    "import os\n",
    "import numpy as np\n",
    "import pandas as pd\n",
    "import datetime as datetime\n",
    "\n",
    "# !pip install wfdb\n",
    "import wfdb # Waveform Database Software Package (WFDB) for Python\n",
    "import ast"
   ]
  },
  {
   "cell_type": "code",
   "execution_count": 2,
   "id": "0cb42e3f",
   "metadata": {},
   "outputs": [],
   "source": [
    "my_path = os.getcwd()\n",
    "path = '/home/ubuntu/dr-you-ecg-20220420_mount/STEMI_JKL/PTB_XL'\n",
    "my_dir = '/home/ubuntu/dr-you-ecg-20220420_mount/ptb-xl-a-large-publicly-available-electrocardiography-dataset-1.0.1/'"
   ]
  },
  {
   "cell_type": "markdown",
   "id": "1e0a3529",
   "metadata": {},
   "source": [
    "# Preprocess\n",
    "---\n",
    "### (1) load data"
   ]
  },
  {
   "cell_type": "code",
   "execution_count": 3,
   "id": "9b8fc2d5",
   "metadata": {},
   "outputs": [
    {
     "data": {
      "text/html": [
       "<div>\n",
       "<style scoped>\n",
       "    .dataframe tbody tr th:only-of-type {\n",
       "        vertical-align: middle;\n",
       "    }\n",
       "\n",
       "    .dataframe tbody tr th {\n",
       "        vertical-align: top;\n",
       "    }\n",
       "\n",
       "    .dataframe thead th {\n",
       "        text-align: right;\n",
       "    }\n",
       "</style>\n",
       "<table border=\"1\" class=\"dataframe\">\n",
       "  <thead>\n",
       "    <tr style=\"text-align: right;\">\n",
       "      <th></th>\n",
       "      <th>ecg_id</th>\n",
       "      <th>patient_id</th>\n",
       "      <th>scp_codes</th>\n",
       "      <th>filename_hr</th>\n",
       "    </tr>\n",
       "  </thead>\n",
       "  <tbody>\n",
       "    <tr>\n",
       "      <th>0</th>\n",
       "      <td>1</td>\n",
       "      <td>15709.0</td>\n",
       "      <td>{'NORM': 100.0, 'LVOLT': 0.0, 'SR': 0.0}</td>\n",
       "      <td>records500/00000/00001_hr</td>\n",
       "    </tr>\n",
       "    <tr>\n",
       "      <th>1</th>\n",
       "      <td>2</td>\n",
       "      <td>13243.0</td>\n",
       "      <td>{'NORM': 80.0, 'SBRAD': 0.0}</td>\n",
       "      <td>records500/00000/00002_hr</td>\n",
       "    </tr>\n",
       "    <tr>\n",
       "      <th>2</th>\n",
       "      <td>3</td>\n",
       "      <td>20372.0</td>\n",
       "      <td>{'NORM': 100.0, 'SR': 0.0}</td>\n",
       "      <td>records500/00000/00003_hr</td>\n",
       "    </tr>\n",
       "    <tr>\n",
       "      <th>3</th>\n",
       "      <td>4</td>\n",
       "      <td>17014.0</td>\n",
       "      <td>{'NORM': 100.0, 'SR': 0.0}</td>\n",
       "      <td>records500/00000/00004_hr</td>\n",
       "    </tr>\n",
       "    <tr>\n",
       "      <th>4</th>\n",
       "      <td>5</td>\n",
       "      <td>17448.0</td>\n",
       "      <td>{'NORM': 100.0, 'SR': 0.0}</td>\n",
       "      <td>records500/00000/00005_hr</td>\n",
       "    </tr>\n",
       "  </tbody>\n",
       "</table>\n",
       "</div>"
      ],
      "text/plain": [
       "   ecg_id  patient_id                                 scp_codes  \\\n",
       "0       1     15709.0  {'NORM': 100.0, 'LVOLT': 0.0, 'SR': 0.0}   \n",
       "1       2     13243.0              {'NORM': 80.0, 'SBRAD': 0.0}   \n",
       "2       3     20372.0                {'NORM': 100.0, 'SR': 0.0}   \n",
       "3       4     17014.0                {'NORM': 100.0, 'SR': 0.0}   \n",
       "4       5     17448.0                {'NORM': 100.0, 'SR': 0.0}   \n",
       "\n",
       "                 filename_hr  \n",
       "0  records500/00000/00001_hr  \n",
       "1  records500/00000/00002_hr  \n",
       "2  records500/00000/00003_hr  \n",
       "3  records500/00000/00004_hr  \n",
       "4  records500/00000/00005_hr  "
      ]
     },
     "execution_count": 3,
     "metadata": {},
     "output_type": "execute_result"
    }
   ],
   "source": [
    "Y = pd.read_csv('/home/ubuntu/dr-you-ecg-20220420_mount/STEMI_JKL/PTB_XL/PTB_label_short.csv') #21837\n",
    "Y = Y.drop(['diagnosis'], axis=1)\n",
    "Y.head()"
   ]
  },
  {
   "cell_type": "markdown",
   "id": "77668079",
   "metadata": {},
   "source": [
    "---\n",
    "### (2) make the label table"
   ]
  },
  {
   "cell_type": "code",
   "execution_count": 4,
   "id": "f7955350",
   "metadata": {},
   "outputs": [],
   "source": [
    "# replace '/' to '_' (string '/' causes syntax error) : 21837\n",
    "# remove data which have uncertain diagnosis or rhythm (only leave 100% likelihood) : 17903\n",
    "scp_list = []\n",
    "for i in range(len(Y)):\n",
    "    scp_dict = Y.at[i,'scp_codes']\n",
    "    scp_dict = ast.literal_eval(scp_dict)\n",
    "    key_list = []\n",
    "    for key, value in scp_dict.items():\n",
    "        if value == 100:\n",
    "            if \"/\" in key:\n",
    "                key = key.replace('/','_')\n",
    "            key_list.append(key)\n",
    "    scp_list.append(key_list)\n",
    "    \n",
    "Y['confirm_disease'] = scp_list"
   ]
  },
  {
   "cell_type": "code",
   "execution_count": 5,
   "id": "d76c20a4",
   "metadata": {},
   "outputs": [
    {
     "data": {
      "text/html": [
       "<div>\n",
       "<style scoped>\n",
       "    .dataframe tbody tr th:only-of-type {\n",
       "        vertical-align: middle;\n",
       "    }\n",
       "\n",
       "    .dataframe tbody tr th {\n",
       "        vertical-align: top;\n",
       "    }\n",
       "\n",
       "    .dataframe thead th {\n",
       "        text-align: right;\n",
       "    }\n",
       "</style>\n",
       "<table border=\"1\" class=\"dataframe\">\n",
       "  <thead>\n",
       "    <tr style=\"text-align: right;\">\n",
       "      <th></th>\n",
       "      <th>ecg_id</th>\n",
       "      <th>patient_id</th>\n",
       "      <th>scp_codes</th>\n",
       "      <th>filename_hr</th>\n",
       "      <th>confirm_disease</th>\n",
       "    </tr>\n",
       "  </thead>\n",
       "  <tbody>\n",
       "    <tr>\n",
       "      <th>0</th>\n",
       "      <td>1</td>\n",
       "      <td>15709.0</td>\n",
       "      <td>{'NORM': 100.0, 'LVOLT': 0.0, 'SR': 0.0}</td>\n",
       "      <td>records500/00000/00001_hr</td>\n",
       "      <td>[NORM]</td>\n",
       "    </tr>\n",
       "    <tr>\n",
       "      <th>1</th>\n",
       "      <td>3</td>\n",
       "      <td>20372.0</td>\n",
       "      <td>{'NORM': 100.0, 'SR': 0.0}</td>\n",
       "      <td>records500/00000/00003_hr</td>\n",
       "      <td>[NORM]</td>\n",
       "    </tr>\n",
       "    <tr>\n",
       "      <th>2</th>\n",
       "      <td>4</td>\n",
       "      <td>17014.0</td>\n",
       "      <td>{'NORM': 100.0, 'SR': 0.0}</td>\n",
       "      <td>records500/00000/00004_hr</td>\n",
       "      <td>[NORM]</td>\n",
       "    </tr>\n",
       "    <tr>\n",
       "      <th>3</th>\n",
       "      <td>5</td>\n",
       "      <td>17448.0</td>\n",
       "      <td>{'NORM': 100.0, 'SR': 0.0}</td>\n",
       "      <td>records500/00000/00005_hr</td>\n",
       "      <td>[NORM]</td>\n",
       "    </tr>\n",
       "    <tr>\n",
       "      <th>4</th>\n",
       "      <td>6</td>\n",
       "      <td>19005.0</td>\n",
       "      <td>{'NORM': 100.0, 'SR': 0.0}</td>\n",
       "      <td>records500/00000/00006_hr</td>\n",
       "      <td>[NORM]</td>\n",
       "    </tr>\n",
       "    <tr>\n",
       "      <th>...</th>\n",
       "      <td>...</td>\n",
       "      <td>...</td>\n",
       "      <td>...</td>\n",
       "      <td>...</td>\n",
       "      <td>...</td>\n",
       "    </tr>\n",
       "    <tr>\n",
       "      <th>17898</th>\n",
       "      <td>21832</td>\n",
       "      <td>7954.0</td>\n",
       "      <td>{'LAFB': 100.0, 'IVCD': 100.0, 'SR': 0.0}</td>\n",
       "      <td>records500/21000/21832_hr</td>\n",
       "      <td>[LAFB, IVCD]</td>\n",
       "    </tr>\n",
       "    <tr>\n",
       "      <th>17899</th>\n",
       "      <td>21833</td>\n",
       "      <td>17180.0</td>\n",
       "      <td>{'NDT': 100.0, 'PVC': 100.0, 'VCLVH': 0.0, 'ST...</td>\n",
       "      <td>records500/21000/21833_hr</td>\n",
       "      <td>[NDT, PVC]</td>\n",
       "    </tr>\n",
       "    <tr>\n",
       "      <th>17900</th>\n",
       "      <td>21834</td>\n",
       "      <td>20703.0</td>\n",
       "      <td>{'NORM': 100.0, 'ABQRS': 0.0, 'SR': 0.0}</td>\n",
       "      <td>records500/21000/21834_hr</td>\n",
       "      <td>[NORM]</td>\n",
       "    </tr>\n",
       "    <tr>\n",
       "      <th>17901</th>\n",
       "      <td>21836</td>\n",
       "      <td>8873.0</td>\n",
       "      <td>{'NORM': 100.0, 'SR': 0.0}</td>\n",
       "      <td>records500/21000/21836_hr</td>\n",
       "      <td>[NORM]</td>\n",
       "    </tr>\n",
       "    <tr>\n",
       "      <th>17902</th>\n",
       "      <td>21837</td>\n",
       "      <td>11744.0</td>\n",
       "      <td>{'NORM': 100.0, 'SR': 0.0}</td>\n",
       "      <td>records500/21000/21837_hr</td>\n",
       "      <td>[NORM]</td>\n",
       "    </tr>\n",
       "  </tbody>\n",
       "</table>\n",
       "<p>17903 rows × 5 columns</p>\n",
       "</div>"
      ],
      "text/plain": [
       "       ecg_id  patient_id                                          scp_codes  \\\n",
       "0           1     15709.0           {'NORM': 100.0, 'LVOLT': 0.0, 'SR': 0.0}   \n",
       "1           3     20372.0                         {'NORM': 100.0, 'SR': 0.0}   \n",
       "2           4     17014.0                         {'NORM': 100.0, 'SR': 0.0}   \n",
       "3           5     17448.0                         {'NORM': 100.0, 'SR': 0.0}   \n",
       "4           6     19005.0                         {'NORM': 100.0, 'SR': 0.0}   \n",
       "...       ...         ...                                                ...   \n",
       "17898   21832      7954.0          {'LAFB': 100.0, 'IVCD': 100.0, 'SR': 0.0}   \n",
       "17899   21833     17180.0  {'NDT': 100.0, 'PVC': 100.0, 'VCLVH': 0.0, 'ST...   \n",
       "17900   21834     20703.0           {'NORM': 100.0, 'ABQRS': 0.0, 'SR': 0.0}   \n",
       "17901   21836      8873.0                         {'NORM': 100.0, 'SR': 0.0}   \n",
       "17902   21837     11744.0                         {'NORM': 100.0, 'SR': 0.0}   \n",
       "\n",
       "                     filename_hr confirm_disease  \n",
       "0      records500/00000/00001_hr          [NORM]  \n",
       "1      records500/00000/00003_hr          [NORM]  \n",
       "2      records500/00000/00004_hr          [NORM]  \n",
       "3      records500/00000/00005_hr          [NORM]  \n",
       "4      records500/00000/00006_hr          [NORM]  \n",
       "...                          ...             ...  \n",
       "17898  records500/21000/21832_hr    [LAFB, IVCD]  \n",
       "17899  records500/21000/21833_hr      [NDT, PVC]  \n",
       "17900  records500/21000/21834_hr          [NORM]  \n",
       "17901  records500/21000/21836_hr          [NORM]  \n",
       "17902  records500/21000/21837_hr          [NORM]  \n",
       "\n",
       "[17903 rows x 5 columns]"
      ]
     },
     "execution_count": 5,
     "metadata": {},
     "output_type": "execute_result"
    }
   ],
   "source": [
    "full_index = []\n",
    "for i in range(len(Y)):\n",
    "    val_list = Y.iloc[i]['confirm_disease']\n",
    "    if len(val_list) != 0:\n",
    "        full_index.append(i)\n",
    "\n",
    "df_Y = Y.loc[full_index]\n",
    "df_Y = df_Y.reset_index(drop=True)\n",
    "df_Y"
   ]
  },
  {
   "cell_type": "code",
   "execution_count": 6,
   "id": "f2196efd",
   "metadata": {},
   "outputs": [
    {
     "data": {
      "text/plain": [
       "[3199, 4558, 5950, 10476, 12360]"
      ]
     },
     "execution_count": 6,
     "metadata": {},
     "output_type": "execute_result"
    }
   ],
   "source": [
    "# remove 'PMI' and 'STACH' (because it's too small to train the model) : 17898\n",
    "# PMI : (3199, 4558, 5950, 12360) / STACH : (10476)\n",
    "r_list = []\n",
    "for i in range(len(df_Y)):\n",
    "    List = df_Y.iloc[i]['confirm_disease']\n",
    "    for j in List:\n",
    "        if j == 'STACH' or j == 'PMI': \n",
    "            r_list.append(i)\n",
    "r_list"
   ]
  },
  {
   "cell_type": "code",
   "execution_count": 7,
   "id": "bc19bb4e",
   "metadata": {},
   "outputs": [
    {
     "name": "stdout",
     "output_type": "stream",
     "text": [
      "ecg_id                                                          3859\n",
      "patient_id                                                    8132.0\n",
      "scp_codes          {'PMI': 100.0, 'ASMI': 100.0, 'IVCD': 100.0, '...\n",
      "filename_hr                                records500/03000/03859_hr\n",
      "confirm_disease                                    [PMI, ASMI, IVCD]\n",
      "Name: 3199, dtype: object\n",
      "\n",
      "\n",
      "ecg_id                                                          5543\n",
      "patient_id                                                    8963.0\n",
      "scp_codes          {'PMI': 100.0, 'LMI': 50.0, 'SEHYP': 50.0, 'AB...\n",
      "filename_hr                                records500/05000/05543_hr\n",
      "confirm_disease                                                [PMI]\n",
      "Name: 4558, dtype: object\n",
      "\n",
      "\n",
      "ecg_id                                    7244\n",
      "patient_id                             17069.0\n",
      "scp_codes          {'PMI': 100.0, 'AFIB': 0.0}\n",
      "filename_hr          records500/07000/07244_hr\n",
      "confirm_disease                          [PMI]\n",
      "Name: 5950, dtype: object\n",
      "\n",
      "\n",
      "ecg_id                                                      12767\n",
      "patient_id                                                19939.0\n",
      "scp_codes          {'STACH': 100.0, 'IRBBB': 100.0, 'TRIGU': 0.0}\n",
      "filename_hr                             records500/12000/12767_hr\n",
      "confirm_disease                                    [STACH, IRBBB]\n",
      "Name: 10476, dtype: object\n",
      "\n",
      "\n",
      "ecg_id                                                         15059\n",
      "patient_id                                                   15353.0\n",
      "scp_codes          {'PMI': 100.0, 'IMI': 100.0, '1AVB': 100.0, 'S...\n",
      "filename_hr                                records500/15000/15059_hr\n",
      "confirm_disease                                     [PMI, IMI, 1AVB]\n",
      "Name: 12360, dtype: object\n",
      "\n",
      "\n"
     ]
    }
   ],
   "source": [
    "# check the remove list\n",
    "for i in r_list:\n",
    "    print(df_Y.iloc[i])\n",
    "    print('\\n')"
   ]
  },
  {
   "cell_type": "code",
   "execution_count": 8,
   "id": "c7971d85",
   "metadata": {},
   "outputs": [
    {
     "data": {
      "text/html": [
       "<div>\n",
       "<style scoped>\n",
       "    .dataframe tbody tr th:only-of-type {\n",
       "        vertical-align: middle;\n",
       "    }\n",
       "\n",
       "    .dataframe tbody tr th {\n",
       "        vertical-align: top;\n",
       "    }\n",
       "\n",
       "    .dataframe thead th {\n",
       "        text-align: right;\n",
       "    }\n",
       "</style>\n",
       "<table border=\"1\" class=\"dataframe\">\n",
       "  <thead>\n",
       "    <tr style=\"text-align: right;\">\n",
       "      <th></th>\n",
       "      <th>ecg_id</th>\n",
       "      <th>patient_id</th>\n",
       "      <th>scp_codes</th>\n",
       "      <th>filename_hr</th>\n",
       "      <th>confirm_disease</th>\n",
       "    </tr>\n",
       "  </thead>\n",
       "  <tbody>\n",
       "    <tr>\n",
       "      <th>0</th>\n",
       "      <td>1</td>\n",
       "      <td>15709.0</td>\n",
       "      <td>{'NORM': 100.0, 'LVOLT': 0.0, 'SR': 0.0}</td>\n",
       "      <td>records500/00000/00001_hr</td>\n",
       "      <td>[NORM]</td>\n",
       "    </tr>\n",
       "    <tr>\n",
       "      <th>1</th>\n",
       "      <td>3</td>\n",
       "      <td>20372.0</td>\n",
       "      <td>{'NORM': 100.0, 'SR': 0.0}</td>\n",
       "      <td>records500/00000/00003_hr</td>\n",
       "      <td>[NORM]</td>\n",
       "    </tr>\n",
       "    <tr>\n",
       "      <th>2</th>\n",
       "      <td>4</td>\n",
       "      <td>17014.0</td>\n",
       "      <td>{'NORM': 100.0, 'SR': 0.0}</td>\n",
       "      <td>records500/00000/00004_hr</td>\n",
       "      <td>[NORM]</td>\n",
       "    </tr>\n",
       "    <tr>\n",
       "      <th>3</th>\n",
       "      <td>5</td>\n",
       "      <td>17448.0</td>\n",
       "      <td>{'NORM': 100.0, 'SR': 0.0}</td>\n",
       "      <td>records500/00000/00005_hr</td>\n",
       "      <td>[NORM]</td>\n",
       "    </tr>\n",
       "    <tr>\n",
       "      <th>4</th>\n",
       "      <td>6</td>\n",
       "      <td>19005.0</td>\n",
       "      <td>{'NORM': 100.0, 'SR': 0.0}</td>\n",
       "      <td>records500/00000/00006_hr</td>\n",
       "      <td>[NORM]</td>\n",
       "    </tr>\n",
       "    <tr>\n",
       "      <th>...</th>\n",
       "      <td>...</td>\n",
       "      <td>...</td>\n",
       "      <td>...</td>\n",
       "      <td>...</td>\n",
       "      <td>...</td>\n",
       "    </tr>\n",
       "    <tr>\n",
       "      <th>17893</th>\n",
       "      <td>21832</td>\n",
       "      <td>7954.0</td>\n",
       "      <td>{'LAFB': 100.0, 'IVCD': 100.0, 'SR': 0.0}</td>\n",
       "      <td>records500/21000/21832_hr</td>\n",
       "      <td>[LAFB, IVCD]</td>\n",
       "    </tr>\n",
       "    <tr>\n",
       "      <th>17894</th>\n",
       "      <td>21833</td>\n",
       "      <td>17180.0</td>\n",
       "      <td>{'NDT': 100.0, 'PVC': 100.0, 'VCLVH': 0.0, 'ST...</td>\n",
       "      <td>records500/21000/21833_hr</td>\n",
       "      <td>[NDT, PVC]</td>\n",
       "    </tr>\n",
       "    <tr>\n",
       "      <th>17895</th>\n",
       "      <td>21834</td>\n",
       "      <td>20703.0</td>\n",
       "      <td>{'NORM': 100.0, 'ABQRS': 0.0, 'SR': 0.0}</td>\n",
       "      <td>records500/21000/21834_hr</td>\n",
       "      <td>[NORM]</td>\n",
       "    </tr>\n",
       "    <tr>\n",
       "      <th>17896</th>\n",
       "      <td>21836</td>\n",
       "      <td>8873.0</td>\n",
       "      <td>{'NORM': 100.0, 'SR': 0.0}</td>\n",
       "      <td>records500/21000/21836_hr</td>\n",
       "      <td>[NORM]</td>\n",
       "    </tr>\n",
       "    <tr>\n",
       "      <th>17897</th>\n",
       "      <td>21837</td>\n",
       "      <td>11744.0</td>\n",
       "      <td>{'NORM': 100.0, 'SR': 0.0}</td>\n",
       "      <td>records500/21000/21837_hr</td>\n",
       "      <td>[NORM]</td>\n",
       "    </tr>\n",
       "  </tbody>\n",
       "</table>\n",
       "<p>17898 rows × 5 columns</p>\n",
       "</div>"
      ],
      "text/plain": [
       "       ecg_id  patient_id                                          scp_codes  \\\n",
       "0           1     15709.0           {'NORM': 100.0, 'LVOLT': 0.0, 'SR': 0.0}   \n",
       "1           3     20372.0                         {'NORM': 100.0, 'SR': 0.0}   \n",
       "2           4     17014.0                         {'NORM': 100.0, 'SR': 0.0}   \n",
       "3           5     17448.0                         {'NORM': 100.0, 'SR': 0.0}   \n",
       "4           6     19005.0                         {'NORM': 100.0, 'SR': 0.0}   \n",
       "...       ...         ...                                                ...   \n",
       "17893   21832      7954.0          {'LAFB': 100.0, 'IVCD': 100.0, 'SR': 0.0}   \n",
       "17894   21833     17180.0  {'NDT': 100.0, 'PVC': 100.0, 'VCLVH': 0.0, 'ST...   \n",
       "17895   21834     20703.0           {'NORM': 100.0, 'ABQRS': 0.0, 'SR': 0.0}   \n",
       "17896   21836      8873.0                         {'NORM': 100.0, 'SR': 0.0}   \n",
       "17897   21837     11744.0                         {'NORM': 100.0, 'SR': 0.0}   \n",
       "\n",
       "                     filename_hr confirm_disease  \n",
       "0      records500/00000/00001_hr          [NORM]  \n",
       "1      records500/00000/00003_hr          [NORM]  \n",
       "2      records500/00000/00004_hr          [NORM]  \n",
       "3      records500/00000/00005_hr          [NORM]  \n",
       "4      records500/00000/00006_hr          [NORM]  \n",
       "...                          ...             ...  \n",
       "17893  records500/21000/21832_hr    [LAFB, IVCD]  \n",
       "17894  records500/21000/21833_hr      [NDT, PVC]  \n",
       "17895  records500/21000/21834_hr          [NORM]  \n",
       "17896  records500/21000/21836_hr          [NORM]  \n",
       "17897  records500/21000/21837_hr          [NORM]  \n",
       "\n",
       "[17898 rows x 5 columns]"
      ]
     },
     "execution_count": 8,
     "metadata": {},
     "output_type": "execute_result"
    }
   ],
   "source": [
    "for i in r_list:\n",
    "    df_Y = df_Y.drop(index = i)\n",
    "\n",
    "df_Y = df_Y.reset_index(drop=True)\n",
    "df_Y"
   ]
  },
  {
   "cell_type": "code",
   "execution_count": 66,
   "id": "3733195d",
   "metadata": {},
   "outputs": [],
   "source": [
    "# save\n",
    "#df_Y.to_csv('/home/ubuntu/dr-you-ecg-20220420_mount/STEMI_JKL/PTB_table_220616.csv', index=False)"
   ]
  },
  {
   "cell_type": "markdown",
   "id": "ddca57b8",
   "metadata": {},
   "source": [
    "---\n",
    "### (3) make the y_dataset (by sklearn.MultiLabelBinarizer)"
   ]
  },
  {
   "cell_type": "code",
   "execution_count": null,
   "id": "cc3eff4b",
   "metadata": {},
   "outputs": [],
   "source": [
    "# import the table\n",
    "#df_Y=pd.read_csv('/home/ubuntu/dr-you-ecg-20220420_mount/STEMI_JKL/PTB_table_220616.csv')"
   ]
  },
  {
   "cell_type": "code",
   "execution_count": 9,
   "id": "9c7fbd52",
   "metadata": {},
   "outputs": [
    {
     "data": {
      "text/plain": [
       "[['NORM'], ['NORM'], ['NORM'], ['NORM'], ['NORM']]"
      ]
     },
     "execution_count": 9,
     "metadata": {},
     "output_type": "execute_result"
    }
   ],
   "source": [
    "y_list = df_Y['confirm_disease'].values.tolist()\n",
    "y_list[:5]"
   ]
  },
  {
   "cell_type": "code",
   "execution_count": 40,
   "id": "e6dc7e32",
   "metadata": {},
   "outputs": [
    {
     "data": {
      "text/plain": [
       "array([[0, 0, 0, ..., 0, 0, 0],\n",
       "       [0, 0, 0, ..., 0, 0, 0],\n",
       "       [0, 0, 0, ..., 0, 0, 0],\n",
       "       ...,\n",
       "       [0, 0, 0, ..., 0, 0, 0],\n",
       "       [0, 0, 0, ..., 0, 0, 0],\n",
       "       [0, 0, 0, ..., 0, 0, 0]])"
      ]
     },
     "execution_count": 40,
     "metadata": {},
     "output_type": "execute_result"
    }
   ],
   "source": [
    "from sklearn.preprocessing import MultiLabelBinarizer\n",
    "\n",
    "mlb = MultiLabelBinarizer()\n",
    "labels = mlb.fit_transform(df_Y['confirm_disease'].values)\n",
    "labels"
   ]
  },
  {
   "cell_type": "code",
   "execution_count": 41,
   "id": "eb06d3c8",
   "metadata": {},
   "outputs": [
    {
     "data": {
      "text/plain": [
       "(17898, 50)"
      ]
     },
     "execution_count": 41,
     "metadata": {},
     "output_type": "execute_result"
    }
   ],
   "source": [
    "# labels\n",
    "labels.shape"
   ]
  },
  {
   "cell_type": "code",
   "execution_count": 45,
   "id": "491ef4e8",
   "metadata": {},
   "outputs": [
    {
     "data": {
      "text/plain": [
       "array(['1AVB', '2AVB', '3AVB', 'AFIB', 'AFLT', 'ALMI', 'AMI', 'ANEUR',\n",
       "       'ASMI', 'BIGU', 'CLBBB', 'CRBBB', 'DIG', 'EL', 'ILBBB', 'ILMI',\n",
       "       'IMI', 'INJAL', 'INJAS', 'INJIL', 'INJIN', 'INJLA', 'IPLMI',\n",
       "       'IPMI', 'IRBBB', 'ISCAL', 'ISCAN', 'ISCAS', 'ISCIL', 'ISCIN',\n",
       "       'ISCLA', 'ISC_', 'IVCD', 'LAFB', 'LAO_LAE', 'LMI', 'LNGQT', 'LPFB',\n",
       "       'LVH', 'NDT', 'NORM', 'NST_', 'PAC', 'PACE', 'PSVT', 'PVC',\n",
       "       'RAO_RAE', 'RVH', 'SEHYP', 'WPW'], dtype=object)"
      ]
     },
     "execution_count": 45,
     "metadata": {},
     "output_type": "execute_result"
    }
   ],
   "source": [
    "# classes (50)\n",
    "mlb.classes_ "
   ]
  },
  {
   "cell_type": "code",
   "execution_count": 42,
   "id": "946a69e5",
   "metadata": {},
   "outputs": [],
   "source": [
    "# save the y_dataset \n",
    "# np.save('/home/ubuntu/dr-you-ecg-20220420_mount/STEMI_JKL/PTB_Y_0616',labels)"
   ]
  },
  {
   "cell_type": "code",
   "execution_count": 46,
   "id": "168f9ba3",
   "metadata": {},
   "outputs": [
    {
     "data": {
      "text/html": [
       "<div>\n",
       "<style scoped>\n",
       "    .dataframe tbody tr th:only-of-type {\n",
       "        vertical-align: middle;\n",
       "    }\n",
       "\n",
       "    .dataframe tbody tr th {\n",
       "        vertical-align: top;\n",
       "    }\n",
       "\n",
       "    .dataframe thead th {\n",
       "        text-align: right;\n",
       "    }\n",
       "</style>\n",
       "<table border=\"1\" class=\"dataframe\">\n",
       "  <thead>\n",
       "    <tr style=\"text-align: right;\">\n",
       "      <th></th>\n",
       "      <th>ecg_id</th>\n",
       "      <th>patient_id</th>\n",
       "      <th>confirm_disease</th>\n",
       "      <th>filename_hr</th>\n",
       "      <th>1AVB</th>\n",
       "      <th>2AVB</th>\n",
       "      <th>3AVB</th>\n",
       "      <th>AFIB</th>\n",
       "      <th>AFLT</th>\n",
       "      <th>ALMI</th>\n",
       "      <th>...</th>\n",
       "      <th>NORM</th>\n",
       "      <th>NST_</th>\n",
       "      <th>PAC</th>\n",
       "      <th>PACE</th>\n",
       "      <th>PSVT</th>\n",
       "      <th>PVC</th>\n",
       "      <th>RAO_RAE</th>\n",
       "      <th>RVH</th>\n",
       "      <th>SEHYP</th>\n",
       "      <th>WPW</th>\n",
       "    </tr>\n",
       "  </thead>\n",
       "  <tbody>\n",
       "    <tr>\n",
       "      <th>0</th>\n",
       "      <td>1</td>\n",
       "      <td>15709.0</td>\n",
       "      <td>[NORM]</td>\n",
       "      <td>records500/00000/00001_hr</td>\n",
       "      <td>0</td>\n",
       "      <td>0</td>\n",
       "      <td>0</td>\n",
       "      <td>0</td>\n",
       "      <td>0</td>\n",
       "      <td>0</td>\n",
       "      <td>...</td>\n",
       "      <td>1</td>\n",
       "      <td>0</td>\n",
       "      <td>0</td>\n",
       "      <td>0</td>\n",
       "      <td>0</td>\n",
       "      <td>0</td>\n",
       "      <td>0</td>\n",
       "      <td>0</td>\n",
       "      <td>0</td>\n",
       "      <td>0</td>\n",
       "    </tr>\n",
       "    <tr>\n",
       "      <th>1</th>\n",
       "      <td>3</td>\n",
       "      <td>20372.0</td>\n",
       "      <td>[NORM]</td>\n",
       "      <td>records500/00000/00003_hr</td>\n",
       "      <td>0</td>\n",
       "      <td>0</td>\n",
       "      <td>0</td>\n",
       "      <td>0</td>\n",
       "      <td>0</td>\n",
       "      <td>0</td>\n",
       "      <td>...</td>\n",
       "      <td>1</td>\n",
       "      <td>0</td>\n",
       "      <td>0</td>\n",
       "      <td>0</td>\n",
       "      <td>0</td>\n",
       "      <td>0</td>\n",
       "      <td>0</td>\n",
       "      <td>0</td>\n",
       "      <td>0</td>\n",
       "      <td>0</td>\n",
       "    </tr>\n",
       "    <tr>\n",
       "      <th>2</th>\n",
       "      <td>4</td>\n",
       "      <td>17014.0</td>\n",
       "      <td>[NORM]</td>\n",
       "      <td>records500/00000/00004_hr</td>\n",
       "      <td>0</td>\n",
       "      <td>0</td>\n",
       "      <td>0</td>\n",
       "      <td>0</td>\n",
       "      <td>0</td>\n",
       "      <td>0</td>\n",
       "      <td>...</td>\n",
       "      <td>1</td>\n",
       "      <td>0</td>\n",
       "      <td>0</td>\n",
       "      <td>0</td>\n",
       "      <td>0</td>\n",
       "      <td>0</td>\n",
       "      <td>0</td>\n",
       "      <td>0</td>\n",
       "      <td>0</td>\n",
       "      <td>0</td>\n",
       "    </tr>\n",
       "    <tr>\n",
       "      <th>3</th>\n",
       "      <td>5</td>\n",
       "      <td>17448.0</td>\n",
       "      <td>[NORM]</td>\n",
       "      <td>records500/00000/00005_hr</td>\n",
       "      <td>0</td>\n",
       "      <td>0</td>\n",
       "      <td>0</td>\n",
       "      <td>0</td>\n",
       "      <td>0</td>\n",
       "      <td>0</td>\n",
       "      <td>...</td>\n",
       "      <td>1</td>\n",
       "      <td>0</td>\n",
       "      <td>0</td>\n",
       "      <td>0</td>\n",
       "      <td>0</td>\n",
       "      <td>0</td>\n",
       "      <td>0</td>\n",
       "      <td>0</td>\n",
       "      <td>0</td>\n",
       "      <td>0</td>\n",
       "    </tr>\n",
       "    <tr>\n",
       "      <th>4</th>\n",
       "      <td>6</td>\n",
       "      <td>19005.0</td>\n",
       "      <td>[NORM]</td>\n",
       "      <td>records500/00000/00006_hr</td>\n",
       "      <td>0</td>\n",
       "      <td>0</td>\n",
       "      <td>0</td>\n",
       "      <td>0</td>\n",
       "      <td>0</td>\n",
       "      <td>0</td>\n",
       "      <td>...</td>\n",
       "      <td>1</td>\n",
       "      <td>0</td>\n",
       "      <td>0</td>\n",
       "      <td>0</td>\n",
       "      <td>0</td>\n",
       "      <td>0</td>\n",
       "      <td>0</td>\n",
       "      <td>0</td>\n",
       "      <td>0</td>\n",
       "      <td>0</td>\n",
       "    </tr>\n",
       "  </tbody>\n",
       "</table>\n",
       "<p>5 rows × 54 columns</p>\n",
       "</div>"
      ],
      "text/plain": [
       "   ecg_id  patient_id confirm_disease                filename_hr  1AVB  2AVB  \\\n",
       "0       1     15709.0          [NORM]  records500/00000/00001_hr     0     0   \n",
       "1       3     20372.0          [NORM]  records500/00000/00003_hr     0     0   \n",
       "2       4     17014.0          [NORM]  records500/00000/00004_hr     0     0   \n",
       "3       5     17448.0          [NORM]  records500/00000/00005_hr     0     0   \n",
       "4       6     19005.0          [NORM]  records500/00000/00006_hr     0     0   \n",
       "\n",
       "   3AVB  AFIB  AFLT  ALMI  ...  NORM  NST_  PAC  PACE  PSVT  PVC  RAO_RAE  \\\n",
       "0     0     0     0     0  ...     1     0    0     0     0    0        0   \n",
       "1     0     0     0     0  ...     1     0    0     0     0    0        0   \n",
       "2     0     0     0     0  ...     1     0    0     0     0    0        0   \n",
       "3     0     0     0     0  ...     1     0    0     0     0    0        0   \n",
       "4     0     0     0     0  ...     1     0    0     0     0    0        0   \n",
       "\n",
       "   RVH  SEHYP  WPW  \n",
       "0    0      0    0  \n",
       "1    0      0    0  \n",
       "2    0      0    0  \n",
       "3    0      0    0  \n",
       "4    0      0    0  \n",
       "\n",
       "[5 rows x 54 columns]"
      ]
     },
     "execution_count": 46,
     "metadata": {},
     "output_type": "execute_result"
    }
   ],
   "source": [
    "# make a label table\n",
    "df_ptb = pd.DataFrame(columns=mlb.classes_, data=labels)\n",
    "df_ptb.insert(0,'filename_hr',df_Y['filename_hr'])\n",
    "df_ptb.insert(0,'confirm_disease',df_Y['confirm_disease'])\n",
    "df_ptb.insert(0,'patient_id',df_Y['patient_id'])\n",
    "df_ptb.insert(0,'ecg_id',df_Y['ecg_id'])\n",
    "df_ptb.head()"
   ]
  },
  {
   "cell_type": "code",
   "execution_count": 47,
   "id": "a14cd77f",
   "metadata": {},
   "outputs": [],
   "source": [
    "# save the label table\n",
    "# df_ptb.to_csv('/home/ubuntu/dr-you-ecg-20220420_mount/STEMI_JKL/PTB_multi_label_220616.csv', index=False)"
   ]
  },
  {
   "cell_type": "code",
   "execution_count": 49,
   "id": "c443c0af",
   "metadata": {
    "scrolled": true
   },
   "outputs": [
    {
     "data": {
      "text/plain": [
       "ecg_id                                 20749\n",
       "patient_id                           19560.0\n",
       "confirm_disease                [ASMI, ILBBB]\n",
       "filename_hr        records500/20000/20749_hr\n",
       "1AVB                                       0\n",
       "2AVB                                       0\n",
       "3AVB                                       0\n",
       "AFIB                                       0\n",
       "AFLT                                       0\n",
       "ALMI                                       0\n",
       "AMI                                        0\n",
       "ANEUR                                      0\n",
       "ASMI                                       0\n",
       "BIGU                                       0\n",
       "CLBBB                                      0\n",
       "CRBBB                                      0\n",
       "DIG                                        0\n",
       "EL                                         0\n",
       "ILBBB                                      0\n",
       "ILMI                                       0\n",
       "IMI                                        0\n",
       "INJAL                                      0\n",
       "INJAS                                      0\n",
       "INJIL                                      0\n",
       "INJIN                                      0\n",
       "INJLA                                      0\n",
       "IPLMI                                      0\n",
       "IPMI                                       0\n",
       "IRBBB                                      0\n",
       "ISCAL                                      0\n",
       "ISCAN                                      0\n",
       "ISCAS                                      0\n",
       "ISCIL                                      0\n",
       "ISCIN                                      0\n",
       "ISCLA                                      0\n",
       "ISC_                                       0\n",
       "IVCD                                       0\n",
       "LAFB                                       0\n",
       "LAO_LAE                                    0\n",
       "LMI                                        0\n",
       "LNGQT                                      0\n",
       "LPFB                                       0\n",
       "LVH                                        0\n",
       "NDT                                        0\n",
       "NORM                                       0\n",
       "NST_                                       1\n",
       "PAC                                        0\n",
       "PACE                                       0\n",
       "PSVT                                       0\n",
       "PVC                                        0\n",
       "RAO_RAE                                    0\n",
       "RVH                                        0\n",
       "SEHYP                                      0\n",
       "WPW                                        0\n",
       "Name: 17000, dtype: object"
      ]
     },
     "execution_count": 49,
     "metadata": {},
     "output_type": "execute_result"
    }
   ],
   "source": [
    "# check\n",
    "df_ptb.loc[17000]"
   ]
  },
  {
   "cell_type": "markdown",
   "id": "575b8e39",
   "metadata": {},
   "source": [
    "---\n",
    "### (4) make the x_dataset"
   ]
  },
  {
   "cell_type": "code",
   "execution_count": null,
   "id": "393c3057",
   "metadata": {},
   "outputs": [],
   "source": [
    "def load_raw_data(df, sampling_rate, path):\n",
    "    data = [wfdb.rdsamp(path+f) for f in df.filename_hr]\n",
    "    data = np.array([signal for signal, meta in data])\n",
    "    return data\n",
    "\n",
    "path = my_dir\n",
    "sampling_rate=500\n",
    "\n",
    "# Load raw signal data\n",
    "X = load_raw_data(df_Y, sampling_rate, path)"
   ]
  },
  {
   "cell_type": "code",
   "execution_count": 51,
   "id": "611eb921",
   "metadata": {
    "scrolled": true
   },
   "outputs": [
    {
     "data": {
      "text/plain": [
       "array([[[-0.115, -0.05 ,  0.065, ..., -0.035, -0.035, -0.075],\n",
       "        [-0.115, -0.05 ,  0.065, ..., -0.035, -0.035, -0.075],\n",
       "        [-0.115, -0.05 ,  0.065, ..., -0.035, -0.035, -0.075],\n",
       "        ...,\n",
       "        [ 0.21 ,  0.205, -0.005, ...,  0.185,  0.17 ,  0.18 ],\n",
       "        [ 0.21 ,  0.205, -0.005, ...,  0.185,  0.17 ,  0.18 ],\n",
       "        [ 0.21 ,  0.205, -0.005, ...,  0.185,  0.17 ,  0.18 ]],\n",
       "\n",
       "       [[-0.035, -0.07 , -0.035, ..., -0.1  , -0.075, -0.065],\n",
       "        [-0.035, -0.07 , -0.035, ..., -0.1  , -0.075, -0.065],\n",
       "        [-0.035, -0.07 , -0.035, ..., -0.1  , -0.075, -0.065],\n",
       "        ...,\n",
       "        [-0.04 , -0.18 , -0.14 , ..., -0.015,  0.02 ,  0.025],\n",
       "        [-0.04 , -0.18 , -0.14 , ..., -0.015,  0.02 ,  0.025],\n",
       "        [-0.04 , -0.18 , -0.14 , ..., -0.015,  0.02 ,  0.025]],\n",
       "\n",
       "       [[-0.055, -0.155, -0.1  , ..., -0.305, -0.185, -0.175],\n",
       "        [-0.055, -0.155, -0.1  , ..., -0.305, -0.185, -0.175],\n",
       "        [-0.055, -0.155, -0.1  , ..., -0.305, -0.185, -0.175],\n",
       "        ...,\n",
       "        [ 0.105,  0.375,  0.27 , ...,  3.025,  2.125,  1.59 ],\n",
       "        [ 0.105,  0.375,  0.27 , ...,  3.025,  2.125,  1.59 ],\n",
       "        [ 0.105,  0.375,  0.27 , ...,  3.025,  2.125,  1.59 ]],\n",
       "\n",
       "       ...,\n",
       "\n",
       "       [[-0.035,  0.005,  0.04 , ...,  0.015,  0.005, -0.005],\n",
       "        [-0.035,  0.005,  0.04 , ...,  0.015,  0.005, -0.005],\n",
       "        [-0.035,  0.005,  0.04 , ...,  0.015,  0.005, -0.005],\n",
       "        ...,\n",
       "        [ 0.   , -0.045, -0.045, ..., -0.035, -0.02 , -0.025],\n",
       "        [ 0.   , -0.045, -0.045, ..., -0.035, -0.02 , -0.025],\n",
       "        [ 0.   , -0.045, -0.045, ..., -0.035, -0.02 , -0.025]],\n",
       "\n",
       "       [[-0.045, -0.035,  0.01 , ..., -0.025, -0.03 , -0.03 ],\n",
       "        [-0.045, -0.035,  0.01 , ..., -0.025, -0.03 , -0.03 ],\n",
       "        [-0.045, -0.035,  0.01 , ..., -0.025, -0.03 , -0.03 ],\n",
       "        ...,\n",
       "        [ 0.07 ,  0.21 ,  0.14 , ...,  0.21 ,  0.185,  0.13 ],\n",
       "        [ 0.07 ,  0.21 ,  0.14 , ...,  0.21 ,  0.185,  0.13 ],\n",
       "        [ 0.07 ,  0.21 ,  0.14 , ...,  0.21 ,  0.185,  0.13 ]],\n",
       "\n",
       "       [[-0.05 , -0.03 ,  0.02 , ..., -0.035, -0.03 , -0.035],\n",
       "        [-0.05 , -0.03 ,  0.02 , ..., -0.035, -0.03 , -0.035],\n",
       "        [-0.05 , -0.03 ,  0.02 , ..., -0.035, -0.03 , -0.035],\n",
       "        ...,\n",
       "        [-0.07 , -0.07 ,  0.   , ..., -0.06 , -0.07 , -0.07 ],\n",
       "        [-0.07 , -0.07 ,  0.   , ..., -0.06 , -0.07 , -0.07 ],\n",
       "        [-0.07 , -0.07 ,  0.   , ..., -0.06 , -0.07 , -0.07 ]]])"
      ]
     },
     "execution_count": 51,
     "metadata": {},
     "output_type": "execute_result"
    }
   ],
   "source": [
    "X "
   ]
  },
  {
   "cell_type": "code",
   "execution_count": 60,
   "id": "cac1d443",
   "metadata": {},
   "outputs": [
    {
     "data": {
      "text/plain": [
       "17898"
      ]
     },
     "execution_count": 60,
     "metadata": {},
     "output_type": "execute_result"
    }
   ],
   "source": [
    "len(X)"
   ]
  },
  {
   "cell_type": "code",
   "execution_count": 61,
   "id": "8fb100e0",
   "metadata": {},
   "outputs": [],
   "source": [
    "# 8 lead and Padding\n",
    "# 0, 1, 2, 3, 4, 5, 6, 7, 8, 9, 10, 11\n",
    "# I, II, III, aVL, aVR, aVF, V1-V6\n",
    "x_array = []\n",
    "for i in X:\n",
    "    df_ecg = pd.DataFrame(i)\n",
    "    nm = df_ecg[[0, 1, 6, 7, 8, 9, 10, 11]]\n",
    "    nm_numpy = nm.to_numpy()\n",
    "    pad_ecg = np.pad(nm,((120,0),(0,0)),'constant',constant_values=0) # Lead zero padded to 5120\n",
    "    x_array.append(pad_ecg)\n",
    "    \n",
    "X_dataset = np.array(x_array)"
   ]
  },
  {
   "cell_type": "code",
   "execution_count": 62,
   "id": "e912e6f8",
   "metadata": {},
   "outputs": [
    {
     "data": {
      "text/plain": [
       "(17898, 5120, 8)"
      ]
     },
     "execution_count": 62,
     "metadata": {},
     "output_type": "execute_result"
    }
   ],
   "source": [
    "X_dataset.shape"
   ]
  },
  {
   "cell_type": "code",
   "execution_count": 64,
   "id": "39813af5",
   "metadata": {},
   "outputs": [],
   "source": [
    "# x_dataset \n",
    "np.save('/home/ubuntu/dr-you-ecg-20220420_mount/STEMI_JKL/PTB_X_0616',X_dataset)"
   ]
  }
 ],
 "metadata": {
  "kernelspec": {
   "display_name": "Python 3 (ipykernel)",
   "language": "python",
   "name": "python3"
  },
  "language_info": {
   "codemirror_mode": {
    "name": "ipython",
    "version": 3
   },
   "file_extension": ".py",
   "mimetype": "text/x-python",
   "name": "python",
   "nbconvert_exporter": "python",
   "pygments_lexer": "ipython3",
   "version": "3.8.12"
  }
 },
 "nbformat": 4,
 "nbformat_minor": 5
}
